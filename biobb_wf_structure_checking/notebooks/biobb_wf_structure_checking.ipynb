{
 "cells": [
  {
   "cell_type": "markdown",
   "metadata": {},
   "source": [
    "# Molecular Structure Checking using BioExcel Building Blocks (biobb)\n",
    "\n",
    "***\n",
    "This tutorial aims to illustrate the process of **checking** a **molecular structure**. The workflow uses the **BioExcel Building Blocks library (biobb)**. The particular structure used is the complex formed by the **SARS-CoV-2 Receptor Binding Domain and the human Angiotensin Converting Enzyme 2** (PDB code [6M0J](https://www.rcsb.org/structure/6m0j)). \n",
    "\n",
    "**Structure checking** is a key step before setting up a protein system for **simulations**. A number of **common issues** found in structures at **Protein Data Bank** may compromise the success of the simulation, or may suggest that longer equilibration procedures are necessary.\n",
    "\n",
    "The **workflow** shows how to:\n",
    "\n",
    "- Run **basic manipulations on structures** (selection of models, chains, alternative locations\n",
    "- Detect and fix **amide assignments** and **wrong chiralities**\n",
    "- Detect and fix **protein backbone** issues (missing fragments, and atoms, capping)\n",
    "- Detect and fix **missing side-chain atoms**\n",
    "- **Add hydrogen atoms** according to several criteria\n",
    "- Detect and classify **atomic clashes**\n",
    "- Detect possible **disulfide bonds (SS)**\n",
    "\n",
    "An implementation of this workflow in a **web-based Graphical User Interface (GUI)** can be found in the https://mmb.irbbarcelona.org/biobb-wfs/ server (see https://mmb.irbbarcelona.org/biobb-wfs/help/create/structure#check).\n",
    "\n",
    "***\n",
    "\n",
    "## Settings\n",
    "\n",
    "### Biobb modules used\n",
    "\n",
    " - [biobb_io](https://github.com/bioexcel/biobb_io): Tools to fetch biomolecular data from public databases.\n",
    " - [biobb_structure_utils](https://github.com/bioexcel/biobb_structure_utils): Tools to modify or extract information from a PDB structure.\n",
    " - [biobb_model](https://github.com/bioexcel/biobb_model): Tools to check and model 3D structures, create mutations or reconstruct missing atoms.\n",
    " - [biobb_amber](https://github.com/bioexcel/biobb_amber): Tools to setup and simulate atomistic MD simulations using AMBER MD package.\n",
    " - [biobb_chemistry](https://github.com/bioexcel/biobb_chemistry): Tools to perform chemoinformatics on molecular structures.\n",
    "  \n",
    "### Auxiliar libraries used\n",
    "\n",
    " - [nb_conda_kernels](https://github.com/Anaconda-Platform/nb_conda_kernels): Enables a Jupyter Notebook or JupyterLab application in one conda environment to access kernels for Python, R, and other languages found in other environments.\n",
    " - [ipywidgets](https://github.com/jupyter-widgets/ipywidgets): Interactive HTML widgets for Jupyter notebooks and the IPython kernel.\n",
    " - [nglview](http://nglviewer.org/#nglview): Jupyter/IPython widget to interactively view molecular structures and trajectories in notebooks.\n",
    "\n",
    "\n",
    "### Conda Installation and Launch\n",
    "\n",
    "```console\n",
    "git clone https://github.com/bioexcel/biobb_wf_structure_checking.git\n",
    "cd biobb_wf_structure_checking\n",
    "conda env create -f conda_env/environment.yml\n",
    "conda activate biobb_wf_structure_checking\n",
    "jupyter-nbextension enable --py --user widgetsnbextension\n",
    "jupyter-notebook biobb_wf_cmip/notebooks/biobb_wf_structure_checking.ipynb\n",
    "  ``` \n",
    "\n",
    "***\n",
    "## Pipeline steps\n",
    " 1. [Input Parameters](#input)\n",
    " 2. [Fetching PDB structure](#fetch)\n",
    " 3. [PDB structure checking](#PDBchecking)\n",
    "     1. [Models](#models)\n",
    "     2. [Chains](#chains)\n",
    "     3. [Alternative Locations](#altlocs) \n",
    "     4. [Metal Ions](#metals)\n",
    "     5. [Ligands](#ligands)\n",
    "     6. [Hydrogen Atoms](#hydrogens)\n",
    "     7. [Water Molecules](#water)\n",
    "     8. [Amide Groups](#amide)\n",
    "     9. [Chirality](#chirality)\n",
    "     10. [Disulfide Bridges](#ss)\n",
    "     11. [Missing Side Chain Atoms](#sidechains)\n",
    "     12. [Missing Backbone Atoms](#backbone)     \n",
    "     13. [Atomic Clashes](#clashes)\n",
    "     14. [Final Check](#finalcheck)\n",
    " 8. [Questions & Comments](#questions)\n",
    " \n",
    "***\n",
    "<img src=\"https://bioexcel.eu/wp-content/uploads/2019/04/Bioexcell_logo_1080px_transp.png\" alt=\"Bioexcel2 logo\"\n",
    "\ttitle=\"Bioexcel2 logo\" width=\"400\" />\n",
    "***"
   ]
  },
  {
   "cell_type": "code",
   "execution_count": 1,
   "metadata": {},
   "outputs": [],
   "source": [
    "# TO BE REMOVED!!!\n",
    "\n",
    "%load_ext autoreload\n",
    "%autoreload 2"
   ]
  },
  {
   "cell_type": "markdown",
   "metadata": {},
   "source": [
    "<a id=\"input\"></a>\n",
    "## Input parameters\n",
    "**Input parameters** needed:\n",
    " - **pdbCode**: PDB code of the protein structure (e.g. 6M0J)"
   ]
  },
  {
   "cell_type": "code",
   "execution_count": 1,
   "metadata": {},
   "outputs": [
    {
     "data": {
      "application/vnd.jupyter.widget-view+json": {
       "model_id": "d9d77fbe8267417f84048afcb66d9ca0",
       "version_major": 2,
       "version_minor": 0
      },
      "text/plain": []
     },
     "metadata": {},
     "output_type": "display_data"
    }
   ],
   "source": [
    "import nglview\n",
    "import ipywidgets\n",
    "\n",
    "pdbCode = \"6m0j\" # Should be replaced to check different structures "
   ]
  },
  {
   "cell_type": "markdown",
   "metadata": {},
   "source": [
    "<a id=\"fetch\"></a>\n",
    "***\n",
    "## Fetching PDB structure\n",
    "Downloading **PDB structure** with the **protein molecule** from the RCSB PDB database.<br>\n",
    "Alternatively, a **PDB file** can be used as starting structure. <br>\n",
    "***\n",
    "**Building Blocks** used:\n",
    " - [Pdb](https://biobb-io.readthedocs.io/en/latest/api.html#module-api.pdb) from **biobb_io.api.pdb**\n",
    "***"
   ]
  },
  {
   "cell_type": "code",
   "execution_count": 2,
   "metadata": {},
   "outputs": [
    {
     "name": "stdout",
     "output_type": "stream",
     "text": [
      "2022-07-05 08:06:09,650 [MainThread  ] [INFO ]  Downloading: 6m0j from: http://mmb.irbbarcelona.org/api/pdb/6m0j/coords/?\n",
      "2022-07-05 08:06:10,359 [MainThread  ] [INFO ]  Writting pdb to: 6m0j.pdb\n",
      "2022-07-05 08:06:10,360 [MainThread  ] [INFO ]  Filtering lines NOT starting with one of these words: ['ATOM', 'MODEL', 'ENDMDL']\n"
     ]
    },
    {
     "data": {
      "text/plain": [
       "0"
      ]
     },
     "execution_count": 2,
     "metadata": {},
     "output_type": "execute_result"
    }
   ],
   "source": [
    "# Downloading desired PDB file \n",
    "# Import module\n",
    "from biobb_io.api.pdb import pdb\n",
    "\n",
    "# Create properties dict and inputs/outputs\n",
    "downloaded_pdb = pdbCode+'.pdb'\n",
    "prop = {\n",
    "    'pdb_code': pdbCode,\n",
    "    'api_id' : 'mmb'\n",
    "}\n",
    "\n",
    "#Create and launch bb\n",
    "pdb(output_pdb_path=downloaded_pdb,\n",
    "    properties=prop)"
   ]
  },
  {
   "cell_type": "markdown",
   "metadata": {},
   "source": [
    "<a id=\"vis3D\"></a>\n",
    "### Visualizing 3D structure\n",
    "Visualizing the downloaded/given **PDB structure** using **NGL**: "
   ]
  },
  {
   "cell_type": "code",
   "execution_count": 3,
   "metadata": {},
   "outputs": [
    {
     "data": {
      "application/vnd.jupyter.widget-view+json": {
       "model_id": "7f8c1b61536e47c4a9c755ecc1d26f0d",
       "version_major": 2,
       "version_minor": 0
      },
      "text/plain": [
       "NGLWidget()"
      ]
     },
     "metadata": {},
     "output_type": "display_data"
    }
   ],
   "source": [
    "# Show original structure\n",
    "view = nglview.show_structure_file(downloaded_pdb)\n",
    "view.add_representation(repr_type='ball+stick', selection='all')\n",
    "view._remote_call('setSize', target='Widget', args=['','400px'])\n",
    "view"
   ]
  },
  {
   "cell_type": "markdown",
   "metadata": {},
   "source": [
    "<a id=\"PDBchecking\"></a>\n",
    "***\n",
    "## PDB structure checking\n",
    "The first step of the workflow is a complete **checking** of the **molecular structure**. The **BioBB** utility **structure_check** parses the whole **PDB file**, runs a complete **structure checking**, saves **useful information** about the structure and looks for **possible issues**. The block is printing a **report** of the information extracted from the **input structure**. \n",
    "***\n",
    "**Building Blocks** used:\n",
    " - [structure_check](https://biobb-structure-utils.readthedocs.io/en/latest/utils.html#module-utils.structure_check) from **biobb_structure_utils.utils.structure_check**\n",
    "***"
   ]
  },
  {
   "cell_type": "code",
   "execution_count": 3,
   "metadata": {
    "scrolled": true
   },
   "outputs": [
    {
     "name": "stdout",
     "output_type": "stream",
     "text": [
      "2022-07-05 08:06:15,774 [MainThread  ] [INFO ]  No features provided, all features will be computed: models, chains, altloc, metals, ligands, chiral, getss, cistransbck, backbone, amide, clashes\n",
      "2022-07-05 08:06:15,775 [MainThread  ] [INFO ]  Creating e7ab8618-5a7a-47ea-8fe5-6832bca757f3 temporary folder\n",
      "2022-07-05 08:06:15,777 [MainThread  ] [INFO ]  Not using any container\n",
      "2022-07-05 08:06:15,779 [MainThread  ] [INFO ]  check_structure -i /Users/hospital/biobb_tutorials/biobb_wf_structure_checking/biobb_wf_structure_checking/notebooks/6m0j.pdb --json 6m0j.report.json --check_only --non_interactive command_list --list e7ab8618-5a7a-47ea-8fe5-6832bca757f3/command_list.lst\n",
      "\n",
      "2022-07-05 08:06:35,389 [MainThread  ] [INFO ]  Exit code 0\n",
      "\n",
      "2022-07-05 08:06:35,391 [MainThread  ] [INFO ]  ===============================================================================\n",
      "=                   BioBB structure checking utility v3.9.11                   =\n",
      "=            P. Andrio, A. Hospital, G. Bayarri, J.L. Gelpi 2018-22           =\n",
      "===============================================================================\n",
      "\n",
      "Warning: sequence features only available in mmCIF format or with external fasta input\n",
      "Structure /Users/hospital/biobb_tutorials/biobb_wf_structure_checking/biobb_wf_structure_checking/notebooks/6m0j.pdb loaded\n",
      " Title: \n",
      " Experimental method: unknown\n",
      " Resolution (A): N.A.\n",
      "\n",
      " Num. models: 1\n",
      " Num. chains: 2 (A: Protein, E: Protein)\n",
      " Num. residues:  791\n",
      " Num. residues with ins. codes:  0\n",
      " Num. HETATM residues:  0\n",
      " Num. ligands or modified residues:  0\n",
      " Num. water mol.:  0\n",
      " Num. atoms:  6406\n",
      "\n",
      "\n",
      "Step 1: models\n",
      "\n",
      "Running models.\n",
      "1 Model(s) detected\n",
      "Single model found\n",
      "\n",
      "Step 2: chains\n",
      "\n",
      "Running chains.\n",
      "2 Chain(s) detected\n",
      " A: Protein\n",
      " E: Protein\n",
      "\n",
      "Step 3: altloc\n",
      "\n",
      "Running altloc.\n",
      "Detected 2 residues with alternative location labels\n",
      "HIS A228\n",
      "  CA   A (0.50) B (0.50)\n",
      "  CB   A (0.50) B (0.50)\n",
      "  CG   A (0.50) B (0.50)\n",
      "  ND1  A (0.50) B (0.50)\n",
      "  CD2  A (0.50) B (0.50)\n",
      "  CE1  A (0.50) B (0.50)\n",
      "  NE2  A (0.50) B (0.50)\n",
      "GLN E493\n",
      "  CA   A (0.50) B (0.50)\n",
      "  CB   A (0.50) B (0.50)\n",
      "  CG   A (0.50) B (0.50)\n",
      "  CD   A (0.50) B (0.50)\n",
      "  OE1  A (0.50) B (0.50)\n",
      "  NE2  A (0.50) B (0.50)\n",
      "\n",
      "Step 4: metals\n",
      "\n",
      "Running metals.\n",
      "No metal ions found\n",
      "\n",
      "Step 5: ligands\n",
      "\n",
      "Running ligands.\n",
      "No ligands found\n",
      "\n",
      "Step 6: chiral\n",
      "\n",
      "Running chiral.\n",
      "No residues with incorrect side-chain chirality found\n",
      "\n",
      "Step 7: getss\n",
      "\n",
      "Running getss.\n",
      "7 Possible SS Bonds detected\n",
      " CYS A133.SG  CYS A141.SG     4.237\n",
      " CYS A344.SG  CYS A361.SG     4.159\n",
      " CYS A530.SG  CYS A542.SG     4.095\n",
      " CYS E336.SG  CYS E361.SG     4.152\n",
      " CYS E379.SG  CYS E432.SG     4.177\n",
      " CYS E391.SG  CYS E525.SG     4.191\n",
      " CYS E480.SG  CYS E488.SG     4.269\n",
      "\n",
      "Step 8: cistransbck\n",
      "\n",
      "Running cistransbck.\n",
      "1 cis peptide bonds\n",
      "GLU A145   PRO A146   Dihedral:    4.808\n",
      "No trans peptide bonds with unusual omega dihedrals found\n",
      "\n",
      "Step 9: backbone\n",
      "\n",
      "Running backbone.\n",
      "2 Residues with missing backbone atoms found\n",
      " ASP A615   OXT\n",
      " GLY E526   OXT\n",
      "No backbone breaks\n",
      "No unexpected backbone links\n",
      "\n",
      "Step 10: amide\n",
      "\n",
      "Running amide.\n",
      "7 unusual contact(s) involving amide atoms found\n",
      " LYS A31.NZ   GLN E493.NE2    2.926 A\n",
      " GLN A42.NE2  GLN E498.NE2    2.927 A\n",
      " ASN A103.OD1 ASN A194.OD1    2.807 A\n",
      " ASN A134.OD1 GLU A140.OE2    2.785 A\n",
      " ASN A134.ND2 ASN A137.N      3.082 A\n",
      " GLU A150.O   ASN A154.OD1    2.895 A\n",
      " ARG E357.NH1 ASN E394.ND2    2.963 A\n",
      "\n",
      "Step 11: clashes\n",
      "\n",
      "Running clashes.\n",
      "No severe clashes detected\n",
      "4 Steric apolar clashes detected\n",
      " HIS A34.CD2  TYR E453.OH     2.860 A\n",
      " ASN A121.O   THR A125.CG2    2.890 A\n",
      " LEU A333.C   MET A360.O      2.881 A\n",
      " TYR E380.O   THR E430.C      2.758 A\n",
      "8 Steric polar_acceptor clashes detected\n",
      " ASN A103.OD1 ASN A194.OD1    2.807 A\n",
      " ASN A134.OD1 GLU A140.OE2    2.785 A\n",
      " GLU A150.O   ASN A154.OD1    2.895 A\n",
      " MET A152.O   GLY A268.O      3.063 A\n",
      " LEU A333.O   MET A360.O      2.881 A\n",
      " TYR E351.O   ASP E467.O      3.074 A\n",
      " TYR E380.O   THR E430.O      2.728 A\n",
      " GLY E485.O   CYS E488.O      3.046 A\n",
      "4 Steric polar_donor clashes detected\n",
      " LYS A31.NZ   GLN E493.NE2    2.926 A\n",
      " GLN A42.NE2  GLN E498.NE2    2.927 A\n",
      " ASN A134.ND2 ASN A137.N      3.082 A\n",
      " ARG E357.NH1 ASN E394.ND2    2.963 A\n",
      "No positive clashes detected\n",
      "No negative clashes detected\n",
      "Command list completed\n",
      "Summary data saved on 6m0j.report.json\n",
      "\n",
      "2022-07-05 08:06:35,393 [MainThread  ] [INFO ]  Removed: []\n"
     ]
    },
    {
     "data": {
      "text/plain": [
       "0"
      ]
     },
     "execution_count": 3,
     "metadata": {},
     "output_type": "execute_result"
    }
   ],
   "source": [
    "from biobb_structure_utils.utils.structure_check import structure_check\n",
    "\n",
    "report = pdbCode + \".report.json\"\n",
    "\n",
    "prop = {\n",
    "    'features': None # This should work without properies as \"None\" is marked as default, but it doesn't\n",
    "}\n",
    "\n",
    "structure_check(\n",
    "    input_structure_path=downloaded_pdb,\n",
    "    output_summary_path=report,\n",
    "    properties=prop\n",
    ")"
   ]
  },
  {
   "cell_type": "markdown",
   "metadata": {},
   "source": [
    "<a id=\"StepByStep\"></a>\n",
    "***\n",
    "## Structure checking, step by step\n",
    "The **workflow** will go through the **report**, exploring all the different **features** analysed. The following cell is showing the **full content** of the **report**.\n",
    "***"
   ]
  },
  {
   "cell_type": "code",
   "execution_count": 4,
   "metadata": {},
   "outputs": [
    {
     "name": "stdout",
     "output_type": "stream",
     "text": [
      "{\n",
      "  \"altloc\": {\n",
      "    \"GLN E493\": {\n",
      "      \"CA\": [\n",
      "        {\n",
      "          \"loc_label\": \"A\",\n",
      "          \"occupancy\": 0.5\n",
      "        },\n",
      "        {\n",
      "          \"loc_label\": \"B\",\n",
      "          \"occupancy\": 0.5\n",
      "        }\n",
      "      ],\n",
      "      \"CB\": [\n",
      "        {\n",
      "          \"loc_label\": \"A\",\n",
      "          \"occupancy\": 0.5\n",
      "        },\n",
      "        {\n",
      "          \"loc_label\": \"B\",\n",
      "          \"occupancy\": 0.5\n",
      "        }\n",
      "      ],\n",
      "      \"CD\": [\n",
      "        {\n",
      "          \"loc_label\": \"A\",\n",
      "          \"occupancy\": 0.5\n",
      "        },\n",
      "        {\n",
      "          \"loc_label\": \"B\",\n",
      "          \"occupancy\": 0.5\n",
      "        }\n",
      "      ],\n",
      "      \"CG\": [\n",
      "        {\n",
      "          \"loc_label\": \"A\",\n",
      "          \"occupancy\": 0.5\n",
      "        },\n",
      "        {\n",
      "          \"loc_label\": \"B\",\n",
      "          \"occupancy\": 0.5\n",
      "        }\n",
      "      ],\n",
      "      \"NE2\": [\n",
      "        {\n",
      "          \"loc_label\": \"A\",\n",
      "          \"occupancy\": 0.5\n",
      "        },\n",
      "        {\n",
      "          \"loc_label\": \"B\",\n",
      "          \"occupancy\": 0.5\n",
      "        }\n",
      "      ],\n",
      "      \"OE1\": [\n",
      "        {\n",
      "          \"loc_label\": \"A\",\n",
      "          \"occupancy\": 0.5\n",
      "        },\n",
      "        {\n",
      "          \"loc_label\": \"B\",\n",
      "          \"occupancy\": 0.5\n",
      "        }\n",
      "      ]\n",
      "    },\n",
      "    \"HIS A228\": {\n",
      "      \"CA\": [\n",
      "        {\n",
      "          \"loc_label\": \"A\",\n",
      "          \"occupancy\": 0.5\n",
      "        },\n",
      "        {\n",
      "          \"loc_label\": \"B\",\n",
      "          \"occupancy\": 0.5\n",
      "        }\n",
      "      ],\n",
      "      \"CB\": [\n",
      "        {\n",
      "          \"loc_label\": \"A\",\n",
      "          \"occupancy\": 0.5\n",
      "        },\n",
      "        {\n",
      "          \"loc_label\": \"B\",\n",
      "          \"occupancy\": 0.5\n",
      "        }\n",
      "      ],\n",
      "      \"CD2\": [\n",
      "        {\n",
      "          \"loc_label\": \"A\",\n",
      "          \"occupancy\": 0.5\n",
      "        },\n",
      "        {\n",
      "          \"loc_label\": \"B\",\n",
      "          \"occupancy\": 0.5\n",
      "        }\n",
      "      ],\n",
      "      \"CE1\": [\n",
      "        {\n",
      "          \"loc_label\": \"A\",\n",
      "          \"occupancy\": 0.5\n",
      "        },\n",
      "        {\n",
      "          \"loc_label\": \"B\",\n",
      "          \"occupancy\": 0.5\n",
      "        }\n",
      "      ],\n",
      "      \"CG\": [\n",
      "        {\n",
      "          \"loc_label\": \"A\",\n",
      "          \"occupancy\": 0.5\n",
      "        },\n",
      "        {\n",
      "          \"loc_label\": \"B\",\n",
      "          \"occupancy\": 0.5\n",
      "        }\n",
      "      ],\n",
      "      \"ND1\": [\n",
      "        {\n",
      "          \"loc_label\": \"A\",\n",
      "          \"occupancy\": 0.5\n",
      "        },\n",
      "        {\n",
      "          \"loc_label\": \"B\",\n",
      "          \"occupancy\": 0.5\n",
      "        }\n",
      "      ],\n",
      "      \"NE2\": [\n",
      "        {\n",
      "          \"loc_label\": \"A\",\n",
      "          \"occupancy\": 0.5\n",
      "        },\n",
      "        {\n",
      "          \"loc_label\": \"B\",\n",
      "          \"occupancy\": 0.5\n",
      "        }\n",
      "      ]\n",
      "    }\n",
      "  },\n",
      "  \"amide\": {\n",
      "    \"detected\": [\n",
      "      {\n",
      "        \"at1\": \"LYS A31.NZ\",\n",
      "        \"at2\": \"GLN E493.NE2\",\n",
      "        \"dist\": 2.9256\n",
      "      },\n",
      "      {\n",
      "        \"at1\": \"GLN A42.NE2\",\n",
      "        \"at2\": \"GLN E498.NE2\",\n",
      "        \"dist\": 2.9272\n",
      "      },\n",
      "      {\n",
      "        \"at1\": \"ASN A103.OD1\",\n",
      "        \"at2\": \"ASN A194.OD1\",\n",
      "        \"dist\": 2.8068\n",
      "      },\n",
      "      {\n",
      "        \"at1\": \"ASN A134.OD1\",\n",
      "        \"at2\": \"GLU A140.OE2\",\n",
      "        \"dist\": 2.7852\n",
      "      },\n",
      "      {\n",
      "        \"at1\": \"ASN A134.ND2\",\n",
      "        \"at2\": \"ASN A137.N\",\n",
      "        \"dist\": 3.0824\n",
      "      },\n",
      "      {\n",
      "        \"at1\": \"GLU A150.O\",\n",
      "        \"at2\": \"ASN A154.OD1\",\n",
      "        \"dist\": 2.8946\n",
      "      },\n",
      "      {\n",
      "        \"at1\": \"ARG E357.NH1\",\n",
      "        \"at2\": \"ASN E394.ND2\",\n",
      "        \"dist\": 2.9629\n",
      "      }\n",
      "    ],\n",
      "    \"n_amides\": 92\n",
      "  },\n",
      "  \"backbone\": {\n",
      "    \"missing_atoms\": {\n",
      "      \"ASP A615\": [\n",
      "        \"OXT\"\n",
      "      ],\n",
      "      \"GLY E526\": [\n",
      "        \"OXT\"\n",
      "      ]\n",
      "    }\n",
      "  },\n",
      "  \"chains\": {\n",
      "    \"ids\": {\n",
      "      \"A\": 1,\n",
      "      \"E\": 1\n",
      "    }\n",
      "  },\n",
      "  \"chiral\": {\n",
      "    \"n_chirals\": 72\n",
      "  },\n",
      "  \"cistransbck\": {\n",
      "    \"cis\": [\n",
      "      [\n",
      "        \"GLU A145\",\n",
      "        \"PRO A146\",\n",
      "        4.808\n",
      "      ]\n",
      "    ]\n",
      "  },\n",
      "  \"clashes\": {\n",
      "    \"detected\": {\n",
      "      \"apolar\": [\n",
      "        {\n",
      "          \"at1\": \"HIS A34.CD2\",\n",
      "          \"at2\": \"TYR E453.OH\",\n",
      "          \"dist\": 2.8604\n",
      "        },\n",
      "        {\n",
      "          \"at1\": \"ASN A121.O\",\n",
      "          \"at2\": \"THR A125.CG2\",\n",
      "          \"dist\": 2.8895\n",
      "        },\n",
      "        {\n",
      "          \"at1\": \"LEU A333.C\",\n",
      "          \"at2\": \"MET A360.O\",\n",
      "          \"dist\": 2.8805\n",
      "        },\n",
      "        {\n",
      "          \"at1\": \"TYR E380.O\",\n",
      "          \"at2\": \"THR E430.C\",\n",
      "          \"dist\": 2.7583\n",
      "        }\n",
      "      ],\n",
      "      \"negative\": [],\n",
      "      \"polar_acceptor\": [\n",
      "        {\n",
      "          \"at1\": \"ASN A103.OD1\",\n",
      "          \"at2\": \"ASN A194.OD1\",\n",
      "          \"dist\": 2.8068\n",
      "        },\n",
      "        {\n",
      "          \"at1\": \"ASN A134.OD1\",\n",
      "          \"at2\": \"GLU A140.OE2\",\n",
      "          \"dist\": 2.7852\n",
      "        },\n",
      "        {\n",
      "          \"at1\": \"GLU A150.O\",\n",
      "          \"at2\": \"ASN A154.OD1\",\n",
      "          \"dist\": 2.8946\n",
      "        },\n",
      "        {\n",
      "          \"at1\": \"MET A152.O\",\n",
      "          \"at2\": \"GLY A268.O\",\n",
      "          \"dist\": 3.063\n",
      "        },\n",
      "        {\n",
      "          \"at1\": \"LEU A333.O\",\n",
      "          \"at2\": \"MET A360.O\",\n",
      "          \"dist\": 2.8813\n",
      "        },\n",
      "        {\n",
      "          \"at1\": \"TYR E351.O\",\n",
      "          \"at2\": \"ASP E467.O\",\n",
      "          \"dist\": 3.0743\n",
      "        },\n",
      "        {\n",
      "          \"at1\": \"TYR E380.O\",\n",
      "          \"at2\": \"THR E430.O\",\n",
      "          \"dist\": 2.728\n",
      "        },\n",
      "        {\n",
      "          \"at1\": \"GLY E485.O\",\n",
      "          \"at2\": \"CYS E488.O\",\n",
      "          \"dist\": 3.0457\n",
      "        }\n",
      "      ],\n",
      "      \"polar_donor\": [\n",
      "        {\n",
      "          \"at1\": \"LYS A31.NZ\",\n",
      "          \"at2\": \"GLN E493.NE2\",\n",
      "          \"dist\": 2.9256\n",
      "        },\n",
      "        {\n",
      "          \"at1\": \"GLN A42.NE2\",\n",
      "          \"at2\": \"GLN E498.NE2\",\n",
      "          \"dist\": 2.9272\n",
      "        },\n",
      "        {\n",
      "          \"at1\": \"ASN A134.ND2\",\n",
      "          \"at2\": \"ASN A137.N\",\n",
      "          \"dist\": 3.0824\n",
      "        },\n",
      "        {\n",
      "          \"at1\": \"ARG E357.NH1\",\n",
      "          \"at2\": \"ASN E394.ND2\",\n",
      "          \"dist\": 2.9629\n",
      "        }\n",
      "      ],\n",
      "      \"positive\": [],\n",
      "      \"severe\": []\n",
      "    }\n",
      "  },\n",
      "  \"getss\": {\n",
      "    \"found\": [\n",
      "      {\n",
      "        \"at1\": \"CYS A133.SG\",\n",
      "        \"at2\": \"CYS A141.SG\",\n",
      "        \"dist\": 4.237\n",
      "      },\n",
      "      {\n",
      "        \"at1\": \"CYS A344.SG\",\n",
      "        \"at2\": \"CYS A361.SG\",\n",
      "        \"dist\": 4.1587\n",
      "      },\n",
      "      {\n",
      "        \"at1\": \"CYS A530.SG\",\n",
      "        \"at2\": \"CYS A542.SG\",\n",
      "        \"dist\": 4.0947\n",
      "      },\n",
      "      {\n",
      "        \"at1\": \"CYS E336.SG\",\n",
      "        \"at2\": \"CYS E361.SG\",\n",
      "        \"dist\": 4.1517\n",
      "      },\n",
      "      {\n",
      "        \"at1\": \"CYS E379.SG\",\n",
      "        \"at2\": \"CYS E432.SG\",\n",
      "        \"dist\": 4.177\n",
      "      },\n",
      "      {\n",
      "        \"at1\": \"CYS E391.SG\",\n",
      "        \"at2\": \"CYS E525.SG\",\n",
      "        \"dist\": 4.1912\n",
      "      },\n",
      "      {\n",
      "        \"at1\": \"CYS E480.SG\",\n",
      "        \"at2\": \"CYS E488.SG\",\n",
      "        \"dist\": 4.2686\n",
      "      }\n",
      "    ]\n",
      "  },\n",
      "  \"headers\": {\n",
      "    \"method\": \"unknown\",\n",
      "    \"resolution\": \"N.A.\",\n",
      "    \"title\": \"\"\n",
      "  },\n",
      "  \"ligands\": {},\n",
      "  \"metals\": {},\n",
      "  \"models\": {\n",
      "    \"nmodels\": 1\n",
      "  },\n",
      "  \"stats\": {\n",
      "    \"biounit\": false,\n",
      "    \"ca_only\": false,\n",
      "    \"chain_details\": {},\n",
      "    \"chain_ids\": {\n",
      "      \"A\": 1,\n",
      "      \"E\": 1\n",
      "    },\n",
      "    \"models_type\": 0,\n",
      "    \"nchains\": 2,\n",
      "    \"nmodels\": 1,\n",
      "    \"num_ats\": 6406,\n",
      "    \"num_res\": 791,\n",
      "    \"num_wat\": 0,\n",
      "    \"res_hetats\": 0,\n",
      "    \"res_insc\": 0,\n",
      "    \"res_ligands\": 0,\n",
      "    \"total_charge\": null\n",
      "  }\n",
      "}\n"
     ]
    }
   ],
   "source": [
    "import json\n",
    "with open(report, 'r') as f:\n",
    "  data = json.load(f)\n",
    "print(json.dumps(data, indent=2))"
   ]
  },
  {
   "cell_type": "markdown",
   "metadata": {},
   "source": [
    "<a id=\"models\"></a>\n",
    "##  Models\n",
    "Presence of **models** in the structure. MD simulations require a single structure, although some structures (e.g. biounits) may be defined as a series of models, in such case all of them are usually required.\n",
    "***\n",
    "Use **BioBB extract_model** to select the desired **models**. \n",
    "\n",
    " - [extract_model](https://biobb-structure-utils.readthedocs.io/en/latest/utils.html#module-utils.extract_model) from **biobb_structure_utils.utils.extract_model**\n",
    "***"
   ]
  },
  {
   "cell_type": "code",
   "execution_count": 5,
   "metadata": {},
   "outputs": [
    {
     "name": "stdout",
     "output_type": "stream",
     "text": [
      "{\n",
      "  \"nmodels\": 1\n",
      "}\n"
     ]
    }
   ],
   "source": [
    "print(json.dumps(data['models'], indent=2))"
   ]
  },
  {
   "cell_type": "code",
   "execution_count": 6,
   "metadata": {
    "scrolled": true
   },
   "outputs": [
    {
     "name": "stdout",
     "output_type": "stream",
     "text": [
      "2022-07-05 08:07:00,853 [MainThread  ] [INFO ]  Creating 40bb4969-ef9d-496c-b30b-18bf82caae5a temporary folder\n",
      "2022-07-05 08:07:00,854 [MainThread  ] [INFO ]  Not using any container\n",
      "2022-07-05 08:07:00,855 [MainThread  ] [INFO ]  check_structure -i /Users/hospital/biobb_tutorials/biobb_wf_structure_checking/biobb_wf_structure_checking/notebooks/6m0j.pdb -o 40bb4969-ef9d-496c-b30b-18bf82caae5a/model1.pdb --force_save models --select 1\n",
      "\n",
      "2022-07-05 08:07:01,702 [MainThread  ] [INFO ]  Exit code 0\n",
      "\n",
      "2022-07-05 08:07:01,705 [MainThread  ] [INFO ]  ===============================================================================\n",
      "=                   BioBB structure checking utility v3.9.11                   =\n",
      "=            P. Andrio, A. Hospital, G. Bayarri, J.L. Gelpi 2018-22           =\n",
      "===============================================================================\n",
      "\n",
      "Warning: sequence features only available in mmCIF format or with external fasta input\n",
      "Structure /Users/hospital/biobb_tutorials/biobb_wf_structure_checking/biobb_wf_structure_checking/notebooks/6m0j.pdb loaded\n",
      " Title: \n",
      " Experimental method: unknown\n",
      " Resolution (A): N.A.\n",
      "\n",
      " Num. models: 1\n",
      " Num. chains: 2 (A: Protein, E: Protein)\n",
      " Num. residues:  791\n",
      " Num. residues with ins. codes:  0\n",
      " Num. HETATM residues:  0\n",
      " Num. ligands or modified residues:  0\n",
      " Num. water mol.:  0\n",
      " Num. atoms:  6406\n",
      "\n",
      "Running models. Options: --select 1\n",
      "1 Model(s) detected\n",
      "Single model found\n",
      "Structure not modified, saving due to --force_save option\n",
      "Final Num. models: 1\n",
      "Final Num. chains: 2 (A: Protein, E: Protein)\n",
      "Final Num. residues:  791\n",
      "Final Num. residues with ins. codes:  0\n",
      "Final Num. HETATM residues:  0\n",
      "Final Num. ligands or modified residues:  0\n",
      "Final Num. water mol.:  0\n",
      "Final Num. atoms:  6406\n",
      "Structure saved on 40bb4969-ef9d-496c-b30b-18bf82caae5a/model1.pdb\n",
      "\n",
      "2022-07-05 08:07:01,714 [MainThread  ] [INFO ]  Removed: ['40bb4969-ef9d-496c-b30b-18bf82caae5a']\n"
     ]
    },
    {
     "data": {
      "text/plain": [
       "0"
      ]
     },
     "execution_count": 6,
     "metadata": {},
     "output_type": "execute_result"
    }
   ],
   "source": [
    "from biobb_structure_utils.utils.extract_model import extract_model\n",
    "\n",
    "pdb_models = pdbCode + \".models.pdb\"\n",
    "\n",
    "prop = {\n",
    "    'models': [ 1 ]\n",
    "}\n",
    "\n",
    "extract_model(\n",
    "    input_structure_path=downloaded_pdb,\n",
    "    output_structure_path=pdb_models,\n",
    "    properties=prop\n",
    ")"
   ]
  },
  {
   "cell_type": "code",
   "execution_count": 29,
   "metadata": {},
   "outputs": [
    {
     "data": {
      "application/vnd.jupyter.widget-view+json": {
       "model_id": "8e204939592542e0919e3cdb49535d04",
       "version_major": 2,
       "version_minor": 0
      },
      "text/plain": [
       "NGLWidget()"
      ]
     },
     "metadata": {},
     "output_type": "display_data"
    }
   ],
   "source": [
    "# Show modified structure\n",
    "view = nglview.show_structure_file(pdb_models)\n",
    "view.add_representation(repr_type='ball+stick', selection='all')\n",
    "view._remote_call('setSize', target='Widget', args=['','400px'])\n",
    "view"
   ]
  },
  {
   "cell_type": "markdown",
   "metadata": {},
   "source": [
    "<a id=\"chains\"></a>\n",
    "##  Chains\n",
    "Presence of **chains** in the structure. MD simulations are usually performed with complete structures. However input structure may contain **several copies of the system**, or contain **additional chains** like **peptides** or **nucleic acids** that may be removed. \n",
    "***\n",
    "Use **BioBB extract_chain** to select the desired **chains**. \n",
    "\n",
    " - [extract_chain](https://biobb-structure-utils.readthedocs.io/en/latest/utils.html#module-utils.extract_chain) from **biobb_structure_utils.utils.extract_chain**\n",
    "***"
   ]
  },
  {
   "cell_type": "code",
   "execution_count": 7,
   "metadata": {},
   "outputs": [
    {
     "name": "stdout",
     "output_type": "stream",
     "text": [
      "{\n",
      "  \"ids\": {\n",
      "    \"A\": 1,\n",
      "    \"E\": 1\n",
      "  }\n",
      "}\n"
     ]
    }
   ],
   "source": [
    "print(json.dumps(data['chains'], indent=2))"
   ]
  },
  {
   "cell_type": "code",
   "execution_count": 8,
   "metadata": {
    "scrolled": true
   },
   "outputs": [
    {
     "name": "stdout",
     "output_type": "stream",
     "text": [
      "2022-07-05 08:07:10,814 [MainThread  ] [INFO ]  Selected Chains: A,E\n",
      "2022-07-05 08:07:10,815 [MainThread  ] [INFO ]  Not using any container\n",
      "2022-07-05 08:07:10,816 [MainThread  ] [INFO ]  check_structure -i /Users/hospital/biobb_tutorials/biobb_wf_structure_checking/biobb_wf_structure_checking/notebooks/6m0j.models.pdb -o 6m0j.chains.pdb --force_save chains --select A,E\n",
      "\n",
      "2022-07-05 08:07:11,854 [MainThread  ] [INFO ]  Exit code 0\n",
      "\n",
      "2022-07-05 08:07:11,856 [MainThread  ] [INFO ]  ===============================================================================\n",
      "=                   BioBB structure checking utility v3.9.11                   =\n",
      "=            P. Andrio, A. Hospital, G. Bayarri, J.L. Gelpi 2018-22           =\n",
      "===============================================================================\n",
      "\n",
      "Warning: sequence features only available in mmCIF format or with external fasta input\n",
      "Structure /Users/hospital/biobb_tutorials/biobb_wf_structure_checking/biobb_wf_structure_checking/notebooks/6m0j.models.pdb loaded\n",
      " Title: \n",
      " Experimental method: unknown\n",
      " Resolution (A): N.A.\n",
      "\n",
      " Num. models: 1\n",
      " Num. chains: 2 (A: Protein, E: Protein)\n",
      " Num. residues:  791\n",
      " Num. residues with ins. codes:  0\n",
      " Num. HETATM residues:  0\n",
      " Num. ligands or modified residues:  0\n",
      " Num. water mol.:  0\n",
      " Num. atoms:  6406\n",
      "\n",
      "Running chains. Options: --select A,E\n",
      "2 Chain(s) detected\n",
      " A: Protein\n",
      " E: Protein\n",
      "Selecting chain(s) A,E\n",
      "Final Num. models: 1\n",
      "Final Num. chains: 2 (A: Protein, E: Protein)\n",
      "Final Num. residues:  791\n",
      "Final Num. residues with ins. codes:  0\n",
      "Final Num. HETATM residues:  0\n",
      "Final Num. ligands or modified residues:  0\n",
      "Final Num. water mol.:  0\n",
      "Final Num. atoms:  6406\n",
      "Structure saved on 6m0j.chains.pdb\n",
      "\n",
      "2022-07-05 08:07:11,857 [MainThread  ] [INFO ]  Removed: []\n"
     ]
    },
    {
     "data": {
      "text/plain": [
       "0"
      ]
     },
     "execution_count": 8,
     "metadata": {},
     "output_type": "execute_result"
    }
   ],
   "source": [
    "from biobb_structure_utils.utils.extract_chain import extract_chain\n",
    "\n",
    "pdb_chains = pdbCode + \".chains.pdb\"\n",
    "\n",
    "prop = {\n",
    "    'chains': [ 'A', 'E' ]\n",
    "}\n",
    "\n",
    "extract_chain(\n",
    "    input_structure_path=pdb_models,\n",
    "    output_structure_path=pdb_chains,\n",
    "    properties=prop\n",
    ")"
   ]
  },
  {
   "cell_type": "code",
   "execution_count": 10,
   "metadata": {},
   "outputs": [
    {
     "data": {
      "application/vnd.jupyter.widget-view+json": {
       "model_id": "bb7dcaaf2c4540bb95f6d93662ae2110",
       "version_major": 2,
       "version_minor": 0
      },
      "text/plain": [
       "NGLWidget()"
      ]
     },
     "metadata": {},
     "output_type": "display_data"
    }
   ],
   "source": [
    "# Show modified structure\n",
    "view = nglview.show_structure_file(pdb_chains)\n",
    "view.add_representation(repr_type='ball+stick', selection='all')\n",
    "view._remote_call('setSize', target='Widget', args=['','400px'])\n",
    "view"
   ]
  },
  {
   "cell_type": "markdown",
   "metadata": {},
   "source": [
    "<a id=\"altlocs\"></a>\n",
    "##  Alternative Locations\n",
    "Presence of residues with **alternative locations**. Atoms with **alternative coordinates** and their **occupancy** are reported. MD simulations requires a **single position** for each atom. \n",
    "***\n",
    "Use **BioBB fix_altloc** to select the desired **alternative locations**. \n",
    "\n",
    " - [fix_altloc](https://biobb-model.readthedocs.io/en/latest/model.html#module-model.fix_altloc) from **biobb_model.model.fix_altloc**\n",
    "***"
   ]
  },
  {
   "cell_type": "code",
   "execution_count": 11,
   "metadata": {
    "scrolled": true
   },
   "outputs": [
    {
     "name": "stdout",
     "output_type": "stream",
     "text": [
      "{\n",
      "  \"GLN E493\": {\n",
      "    \"CA\": [\n",
      "      {\n",
      "        \"loc_label\": \"A\",\n",
      "        \"occupancy\": 0.5\n",
      "      },\n",
      "      {\n",
      "        \"loc_label\": \"B\",\n",
      "        \"occupancy\": 0.5\n",
      "      }\n",
      "    ],\n",
      "    \"CB\": [\n",
      "      {\n",
      "        \"loc_label\": \"A\",\n",
      "        \"occupancy\": 0.5\n",
      "      },\n",
      "      {\n",
      "        \"loc_label\": \"B\",\n",
      "        \"occupancy\": 0.5\n",
      "      }\n",
      "    ],\n",
      "    \"CD\": [\n",
      "      {\n",
      "        \"loc_label\": \"A\",\n",
      "        \"occupancy\": 0.5\n",
      "      },\n",
      "      {\n",
      "        \"loc_label\": \"B\",\n",
      "        \"occupancy\": 0.5\n",
      "      }\n",
      "    ],\n",
      "    \"CG\": [\n",
      "      {\n",
      "        \"loc_label\": \"A\",\n",
      "        \"occupancy\": 0.5\n",
      "      },\n",
      "      {\n",
      "        \"loc_label\": \"B\",\n",
      "        \"occupancy\": 0.5\n",
      "      }\n",
      "    ],\n",
      "    \"NE2\": [\n",
      "      {\n",
      "        \"loc_label\": \"A\",\n",
      "        \"occupancy\": 0.5\n",
      "      },\n",
      "      {\n",
      "        \"loc_label\": \"B\",\n",
      "        \"occupancy\": 0.5\n",
      "      }\n",
      "    ],\n",
      "    \"OE1\": [\n",
      "      {\n",
      "        \"loc_label\": \"A\",\n",
      "        \"occupancy\": 0.5\n",
      "      },\n",
      "      {\n",
      "        \"loc_label\": \"B\",\n",
      "        \"occupancy\": 0.5\n",
      "      }\n",
      "    ]\n",
      "  },\n",
      "  \"HIS A228\": {\n",
      "    \"CA\": [\n",
      "      {\n",
      "        \"loc_label\": \"A\",\n",
      "        \"occupancy\": 0.5\n",
      "      },\n",
      "      {\n",
      "        \"loc_label\": \"B\",\n",
      "        \"occupancy\": 0.5\n",
      "      }\n",
      "    ],\n",
      "    \"CB\": [\n",
      "      {\n",
      "        \"loc_label\": \"A\",\n",
      "        \"occupancy\": 0.5\n",
      "      },\n",
      "      {\n",
      "        \"loc_label\": \"B\",\n",
      "        \"occupancy\": 0.5\n",
      "      }\n",
      "    ],\n",
      "    \"CD2\": [\n",
      "      {\n",
      "        \"loc_label\": \"A\",\n",
      "        \"occupancy\": 0.5\n",
      "      },\n",
      "      {\n",
      "        \"loc_label\": \"B\",\n",
      "        \"occupancy\": 0.5\n",
      "      }\n",
      "    ],\n",
      "    \"CE1\": [\n",
      "      {\n",
      "        \"loc_label\": \"A\",\n",
      "        \"occupancy\": 0.5\n",
      "      },\n",
      "      {\n",
      "        \"loc_label\": \"B\",\n",
      "        \"occupancy\": 0.5\n",
      "      }\n",
      "    ],\n",
      "    \"CG\": [\n",
      "      {\n",
      "        \"loc_label\": \"A\",\n",
      "        \"occupancy\": 0.5\n",
      "      },\n",
      "      {\n",
      "        \"loc_label\": \"B\",\n",
      "        \"occupancy\": 0.5\n",
      "      }\n",
      "    ],\n",
      "    \"ND1\": [\n",
      "      {\n",
      "        \"loc_label\": \"A\",\n",
      "        \"occupancy\": 0.5\n",
      "      },\n",
      "      {\n",
      "        \"loc_label\": \"B\",\n",
      "        \"occupancy\": 0.5\n",
      "      }\n",
      "    ],\n",
      "    \"NE2\": [\n",
      "      {\n",
      "        \"loc_label\": \"A\",\n",
      "        \"occupancy\": 0.5\n",
      "      },\n",
      "      {\n",
      "        \"loc_label\": \"B\",\n",
      "        \"occupancy\": 0.5\n",
      "      }\n",
      "    ]\n",
      "  }\n",
      "}\n"
     ]
    }
   ],
   "source": [
    "print(json.dumps(data['altloc'], indent=2))"
   ]
  },
  {
   "cell_type": "code",
   "execution_count": null,
   "metadata": {},
   "outputs": [],
   "source": [
    "from biobb_model.model.fix_altloc import fix_altloc\n",
    "\n",
    "pdb_altloc = pdbCode + \".altloc.pdb\"\n",
    "\n",
    "prop = { \n",
    "    'restart': False \n",
    "}\n",
    "\n",
    "fix_altloc(\n",
    "    input_pdb_path=pdb_chains,\n",
    "    output_pdb_path=pdb_altloc,\n",
    "    properties=prop\n",
    ")"
   ]
  },
  {
   "cell_type": "code",
   "execution_count": null,
   "metadata": {},
   "outputs": [],
   "source": [
    "# Show modified structure\n",
    "view = nglview.show_structure_file(pdb_altloc)\n",
    "view.add_representation(repr_type='ball+stick', selection='all')\n",
    "view._remote_call('setSize', target='Widget', args=['','400px'])\n",
    "view"
   ]
  },
  {
   "cell_type": "markdown",
   "metadata": {},
   "source": [
    "<a id=\"metals\"></a>\n",
    "##  Metal Ions\n",
    "Presence of heteroatoms being **metal ions**. Only structural **metal ions** should be kept in MD simulations, as they require special **force field parameters**. In some cases, the **atomic coordination** between the **protein atoms** and the **metal ions** should be also specified. \n",
    "***\n",
    "Use **BioBB remove_ligand** to remove the undesired **metal ions**. \n",
    "\n",
    " - [remove_ligand](https://biobb-structure-utils.readthedocs.io/en/latest/utils.html#module-utils.remove_ligand) from **biobb_structure-utils.utils.remove_ligand**\n",
    "***"
   ]
  },
  {
   "cell_type": "code",
   "execution_count": 35,
   "metadata": {},
   "outputs": [
    {
     "name": "stdout",
     "output_type": "stream",
     "text": [
      "{}\n"
     ]
    }
   ],
   "source": [
    "print(json.dumps(data['metals'], indent=2))"
   ]
  },
  {
   "cell_type": "code",
   "execution_count": null,
   "metadata": {},
   "outputs": [],
   "source": [
    "from biobb_structure_utils.utils.remove_ligand import remove_ligand\n",
    "\n",
    "pdb_metals = pdbCode + \".metals.pdb\"\n",
    "\n",
    "prop = {\n",
    "    'ligand': 'ZN2'\n",
    "}\n",
    "\n",
    "remove_ligand(\n",
    "    input_structure_path=pdb_altloc,\n",
    "    output_structure_path=pdb_metals,\n",
    "    properties=prop\n",
    ")"
   ]
  },
  {
   "cell_type": "code",
   "execution_count": null,
   "metadata": {},
   "outputs": [],
   "source": [
    "# Show modified structure\n",
    "view = nglview.show_structure_file(pdb_metals)\n",
    "view.add_representation(repr_type='ball+stick', selection='all')\n",
    "view._remote_call('setSize', target='Widget', args=['','400px'])\n",
    "view"
   ]
  },
  {
   "cell_type": "markdown",
   "metadata": {},
   "source": [
    "<a id=\"ligands\"></a>\n",
    "##  Ligands\n",
    "Presence of heteroatoms being **ligands**. Only important **ligands** should be kept in MD simulations, as they require special **force field parameters**. \n",
    "***\n",
    "Use **BioBB remove_ligand** to remove the undesired **ligands**. \n",
    "\n",
    " - [remove_ligand](https://biobb-structure-utils.readthedocs.io/en/latest/utils.html#module-utils.remove_ligand) from **biobb_structure-utils.utils.remove_ligand**\n",
    "***"
   ]
  },
  {
   "cell_type": "code",
   "execution_count": 36,
   "metadata": {},
   "outputs": [
    {
     "name": "stdout",
     "output_type": "stream",
     "text": [
      "{}\n"
     ]
    }
   ],
   "source": [
    "print(json.dumps(data['ligands'], indent=2))"
   ]
  },
  {
   "cell_type": "code",
   "execution_count": null,
   "metadata": {},
   "outputs": [],
   "source": [
    "from biobb_structure_utils.utils.remove_ligand import remove_ligand\n",
    "\n",
    "pdb_ligands = pdbCode + \".ligands.pdb\"\n",
    "\n",
    "prop = {\n",
    "    'ligand': 'NAG'\n",
    "}\n",
    "\n",
    "remove_ligand(\n",
    "    input_structure_path=pdb_metals,\n",
    "    output_structure_path=pdb_ligands,\n",
    "    properties=prop\n",
    ")"
   ]
  },
  {
   "cell_type": "code",
   "execution_count": null,
   "metadata": {},
   "outputs": [],
   "source": [
    "# Show modified structure\n",
    "view = nglview.show_structure_file(pdb_ligands)\n",
    "view.add_representation(repr_type='ball+stick', selection='all')\n",
    "view._remote_call('setSize', target='Widget', args=['','400px'])\n",
    "view"
   ]
  },
  {
   "cell_type": "markdown",
   "metadata": {},
   "source": [
    "<a id=\"hydrogens\"></a>\n",
    "##  Hydrogen atoms\n",
    "Presence of **hydrogen atoms**. MD setup can be done with the original **hydrogen atoms**, however to prevent possible problems coming from non **standard labelling**, removing them is safer. \n",
    "***\n",
    "Use **BioBB reduce_remove_hydrogens** to remove the undesired **hydrogen atoms**. \n",
    "\n",
    " - [reduce_remove_hydrogens](https://biobb-chemistry.readthedocs.io/en/latest/ambertools.html#module-ambertools.reduce_remove_hydrogens) from **biobb_chemistry.ambertools.reduce_remove_hydrogens**\n",
    "***"
   ]
  },
  {
   "cell_type": "code",
   "execution_count": 39,
   "metadata": {},
   "outputs": [],
   "source": [
    "# No hi ha res que marqui hidrògens a l'estructura al report json (crec)\n",
    "#print(json.dumps(data['hydrogens'], indent=2))"
   ]
  },
  {
   "cell_type": "code",
   "execution_count": 9,
   "metadata": {},
   "outputs": [
    {
     "name": "stdout",
     "output_type": "stream",
     "text": [
      "2022-07-04 13:16:43,615 [MainThread  ] [INFO ]  Not using any container\n",
      "2022-07-04 13:16:43,616 [MainThread  ] [INFO ]  reduce -Trim /Users/hospital/biobb_tutorials/biobb_wf_structure_checking/biobb_wf_structure_checking/notebooks/6m0j.chains.pdb > 6m0j.hydrogens.pdb\n",
      "\n",
      "2022-07-04 13:16:43,739 [MainThread  ] [INFO ]  Exit code 0\n",
      "\n",
      "2022-07-04 13:16:43,743 [MainThread  ] [INFO ]  reduce: version 3.3 06/02/2016, Copyright 1997-2016, J. Michael Word\n",
      "Processing file: \"/Users/hospital/biobb_tutorials/biobb_wf_structure_checking/biobb_wf_structure_checking/notebooks/6m0j.chains.pdb\"\n",
      "Trimming: removed 0 hydrogens (0 hets)\n",
      "If you publish work which uses reduce, please cite:\n",
      "Word, et. al. (1999) J. Mol. Biol. 285, 1735-1747.\n",
      "For more information see http://kinemage.biochem.duke.edu\n",
      "\n"
     ]
    },
    {
     "data": {
      "text/plain": [
       "0"
      ]
     },
     "execution_count": 9,
     "metadata": {},
     "output_type": "execute_result"
    }
   ],
   "source": [
    "from biobb_chemistry.ambertools.reduce_remove_hydrogens import reduce_remove_hydrogens\n",
    "\n",
    "pdb_ligands = pdb_chains # TO BE REMOVED!!!\n",
    "\n",
    "pdb_hydrogens = pdbCode + \".hydrogens.pdb\"\n",
    "\n",
    "reduce_remove_hydrogens(\n",
    "    input_path=pdb_ligands,\n",
    "    output_path=pdb_hydrogens\n",
    ")"
   ]
  },
  {
   "cell_type": "code",
   "execution_count": 10,
   "metadata": {},
   "outputs": [
    {
     "data": {
      "application/vnd.jupyter.widget-view+json": {
       "model_id": "d87e1e79148d4c70896e32dd19c83e38",
       "version_major": 2,
       "version_minor": 0
      },
      "text/plain": [
       "NGLWidget()"
      ]
     },
     "metadata": {},
     "output_type": "display_data"
    }
   ],
   "source": [
    "# Show modified structure\n",
    "view = nglview.show_structure_file(pdb_hydrogens)\n",
    "view.add_representation(repr_type='ball+stick', selection='all')\n",
    "view._remote_call('setSize', target='Widget', args=['','400px'])\n",
    "view"
   ]
  },
  {
   "cell_type": "markdown",
   "metadata": {},
   "source": [
    "<a id=\"water\"></a>\n",
    "##  Water molecules\n",
    "Presence of **water molecules**. **Crystallographic water molecules** may be relevant for keeping the structure stable, however in most cases only some of them are required. These can be later added using other methods.\n",
    "***\n",
    "Use **BioBB remove_pdb_water** to remove the undesired **water molecules**. \n",
    "\n",
    " - [remove_pdb_water](https://biobb-structure-utils.readthedocs.io/en/latest/utils.html#module-utils.remove_pdb_water) from **biobb_structure-utils.utils.remove_pdb_water**\n",
    "***"
   ]
  },
  {
   "cell_type": "code",
   "execution_count": 14,
   "metadata": {},
   "outputs": [
    {
     "name": "stdout",
     "output_type": "stream",
     "text": [
      "0\n"
     ]
    }
   ],
   "source": [
    "print(json.dumps(data['stats']['num_wat'], indent=2))"
   ]
  },
  {
   "cell_type": "code",
   "execution_count": 15,
   "metadata": {
    "scrolled": true
   },
   "outputs": [
    {
     "name": "stdout",
     "output_type": "stream",
     "text": [
      "2022-07-04 13:24:17,016 [MainThread  ] [INFO ]  Not using any container\n",
      "2022-07-04 13:24:17,017 [MainThread  ] [INFO ]  check_structure -i 6m0j.hydrogens.pdb -o 6m0j.water.pdb --force_save water --remove yes\n",
      "\n",
      "2022-07-04 13:24:18,028 [MainThread  ] [INFO ]  Exit code 0\n",
      "\n",
      "2022-07-04 13:24:18,032 [MainThread  ] [INFO ]  ===============================================================================\n",
      "=                   BioBB structure checking utility v3.9.11                   =\n",
      "=            P. Andrio, A. Hospital, G. Bayarri, J.L. Gelpi 2018-22           =\n",
      "===============================================================================\n",
      "\n",
      "Warning: sequence features only available in mmCIF format or with external fasta input\n",
      "Structure 6m0j.hydrogens.pdb loaded\n",
      " Title: \n",
      " Experimental method: unknown\n",
      " Resolution (A): N.A.\n",
      "\n",
      " Num. models: 1\n",
      " Num. chains: 2 (A: Protein, E: Protein)\n",
      " Num. residues:  791\n",
      " Num. residues with ins. codes:  0\n",
      " Num. HETATM residues:  0\n",
      " Num. ligands or modified residues:  0\n",
      " Num. water mol.:  0\n",
      " Num. atoms:  6406\n",
      "\n",
      "Running water. Options: --remove yes\n",
      "No water molecules found\n",
      "Structure not modified, saving due to --force_save option\n",
      "Final Num. models: 1\n",
      "Final Num. chains: 2 (A: Protein, E: Protein)\n",
      "Final Num. residues:  791\n",
      "Final Num. residues with ins. codes:  0\n",
      "Final Num. HETATM residues:  0\n",
      "Final Num. ligands or modified residues:  0\n",
      "Final Num. water mol.:  0\n",
      "Final Num. atoms:  6406\n",
      "Structure saved on 6m0j.water.pdb\n",
      "\n",
      "2022-07-04 13:24:18,034 [MainThread  ] [INFO ]  Removed: []\n"
     ]
    },
    {
     "data": {
      "text/plain": [
       "0"
      ]
     },
     "execution_count": 15,
     "metadata": {},
     "output_type": "execute_result"
    }
   ],
   "source": [
    "from biobb_structure_utils.utils.remove_pdb_water import remove_pdb_water\n",
    "\n",
    "pdb_water = pdbCode + \".water.pdb\"\n",
    "\n",
    "remove_pdb_water(\n",
    "    input_pdb_path=pdb_hydrogens,\n",
    "    output_pdb_path=pdb_water\n",
    ")"
   ]
  },
  {
   "cell_type": "code",
   "execution_count": null,
   "metadata": {},
   "outputs": [],
   "source": [
    "# Show modified structure\n",
    "view = nglview.show_structure_file(pdb_water)\n",
    "view.add_representation(repr_type='ball+stick', selection='all')\n",
    "view._remote_call('setSize', target='Widget', args=['','400px'])\n",
    "view"
   ]
  },
  {
   "cell_type": "markdown",
   "metadata": {},
   "source": [
    "<a id=\"amide\"></a>\n",
    "##  Amide groups\n",
    "Presence of incorrect **amide groups**. **Amide terminal atoms** in ***Asparagines*** and ***Glutamines*** residues can be labelled incorrectly, with swapped **Nitrogen** and **Oxygen** atoms from the **amide group**. \n",
    "***\n",
    "Use **BioBB fix_amides** to fix the incorrectly assigned **amide groups**. \n",
    "\n",
    " - [fix_amides](https://biobb-model.readthedocs.io/en/latest/model.html#module-model.fix_amides) from **biobb_model.model.fix_amides**\n",
    "***"
   ]
  },
  {
   "cell_type": "code",
   "execution_count": 16,
   "metadata": {
    "scrolled": true
   },
   "outputs": [
    {
     "name": "stdout",
     "output_type": "stream",
     "text": [
      "{\n",
      "  \"detected\": [\n",
      "    {\n",
      "      \"at1\": \"LYS A31.NZ\",\n",
      "      \"at2\": \"GLN E493.NE2\",\n",
      "      \"dist\": 2.9256\n",
      "    },\n",
      "    {\n",
      "      \"at1\": \"GLN A42.NE2\",\n",
      "      \"at2\": \"GLN E498.NE2\",\n",
      "      \"dist\": 2.9272\n",
      "    },\n",
      "    {\n",
      "      \"at1\": \"ASN A103.OD1\",\n",
      "      \"at2\": \"ASN A194.OD1\",\n",
      "      \"dist\": 2.8068\n",
      "    },\n",
      "    {\n",
      "      \"at1\": \"ASN A134.OD1\",\n",
      "      \"at2\": \"GLU A140.OE2\",\n",
      "      \"dist\": 2.7852\n",
      "    },\n",
      "    {\n",
      "      \"at1\": \"ASN A134.ND2\",\n",
      "      \"at2\": \"ASN A137.N\",\n",
      "      \"dist\": 3.0824\n",
      "    },\n",
      "    {\n",
      "      \"at1\": \"GLU A150.O\",\n",
      "      \"at2\": \"ASN A154.OD1\",\n",
      "      \"dist\": 2.8946\n",
      "    },\n",
      "    {\n",
      "      \"at1\": \"ARG E357.NH1\",\n",
      "      \"at2\": \"ASN E394.ND2\",\n",
      "      \"dist\": 2.9629\n",
      "    }\n",
      "  ],\n",
      "  \"n_amides\": 92\n",
      "}\n"
     ]
    }
   ],
   "source": [
    "print(json.dumps(data['amide'], indent=2))"
   ]
  },
  {
   "cell_type": "code",
   "execution_count": null,
   "metadata": {},
   "outputs": [],
   "source": [
    "from biobb_model.model.fix_amides import fix_amides\n",
    "\n",
    "pdb_amides = pdbCode + \".amides.pdb\"\n",
    "\n",
    "fix_amides(\n",
    "    input_pdb_path=pdb_water,\n",
    "    output_pdb_path=pdb_amides\n",
    ")"
   ]
  },
  {
   "cell_type": "code",
   "execution_count": null,
   "metadata": {},
   "outputs": [],
   "source": [
    "# Show modified structure\n",
    "view = nglview.show_structure_file(pdb_amides)\n",
    "view.add_representation(repr_type='ball+stick', selection='all')\n",
    "view._remote_call('setSize', target='Widget', args=['','400px'])\n",
    "view"
   ]
  },
  {
   "cell_type": "markdown",
   "metadata": {},
   "source": [
    "<a id=\"chirality\"></a>\n",
    "##  Chirality\n",
    "Presence of incorrect **chiralities**. Side chains of ***Threonine*** and ***Isoleucine*** residues are **chiral**. <br> **Incorrect atom labelling** can lead to the **wrong chirality**. \n",
    "***\n",
    "Use **BioBB fix_chirality** to fix the incorrectly assigned **chirality**. \n",
    "\n",
    " - [fix_chirality](https://biobb-model.readthedocs.io/en/latest/model.html#module-model.fix_chirality) from **biobb_model.model.fix_chirality**\n",
    "***"
   ]
  },
  {
   "cell_type": "code",
   "execution_count": 18,
   "metadata": {},
   "outputs": [
    {
     "name": "stdout",
     "output_type": "stream",
     "text": [
      "{\n",
      "  \"n_chirals\": 72\n",
      "}\n"
     ]
    }
   ],
   "source": [
    "print(json.dumps(data['chiral'], indent=2))"
   ]
  },
  {
   "cell_type": "code",
   "execution_count": null,
   "metadata": {},
   "outputs": [],
   "source": [
    "from biobb_model.model.fix_chirality import fix_chirality\n",
    "\n",
    "pdb_chiral = pdbCode + \".chiral.pdb\"\n",
    "\n",
    "fix_chirality(input_pdb_path=pdb_amides,\n",
    "              output_pdb_path=pdb_chiral,\n",
    "              properties=prop)"
   ]
  },
  {
   "cell_type": "code",
   "execution_count": null,
   "metadata": {},
   "outputs": [],
   "source": [
    "# Show modified structure\n",
    "view = nglview.show_structure_file(pdb_chiral)\n",
    "view.add_representation(repr_type='ball+stick', selection='all')\n",
    "view._remote_call('setSize', target='Widget', args=['','400px'])\n",
    "view"
   ]
  },
  {
   "cell_type": "markdown",
   "metadata": {},
   "source": [
    "<a id=\"ss\"></a>\n",
    "##  Disulfide Bridges\n",
    "Presence of **disulfide bridges** (-S-S- bonds) based on distance criteria. **Disulfide bonds** are crucial for the **structure stability**, and MD simulations require those bonds to be correctly set. Most of the **MD packages** come with tools able to automatically identify -S-S- bonds and include them in the **system topology** parameters, but some of them need the residues involved in the bond to be **explicitly marked** (e.g. AMBER CYX residues). \n",
    "***\n",
    "Use **BioBB fix_ss_bonds** to mark the **disulfide bridges**. \n",
    "\n",
    " - [fix_ss_bonds](https://biobb-model.readthedocs.io/en/latest/model.html#module-model.fix_ss_bonds) from **biobb_model.model.fix_ss_bonds**\n",
    "***"
   ]
  },
  {
   "cell_type": "code",
   "execution_count": 22,
   "metadata": {
    "scrolled": true
   },
   "outputs": [
    {
     "name": "stdout",
     "output_type": "stream",
     "text": [
      "{\n",
      "  \"found\": [\n",
      "    {\n",
      "      \"at1\": \"CYS A133.SG\",\n",
      "      \"at2\": \"CYS A141.SG\",\n",
      "      \"dist\": 4.237\n",
      "    },\n",
      "    {\n",
      "      \"at1\": \"CYS A344.SG\",\n",
      "      \"at2\": \"CYS A361.SG\",\n",
      "      \"dist\": 4.1587\n",
      "    },\n",
      "    {\n",
      "      \"at1\": \"CYS A530.SG\",\n",
      "      \"at2\": \"CYS A542.SG\",\n",
      "      \"dist\": 4.0947\n",
      "    },\n",
      "    {\n",
      "      \"at1\": \"CYS E336.SG\",\n",
      "      \"at2\": \"CYS E361.SG\",\n",
      "      \"dist\": 4.1517\n",
      "    },\n",
      "    {\n",
      "      \"at1\": \"CYS E379.SG\",\n",
      "      \"at2\": \"CYS E432.SG\",\n",
      "      \"dist\": 4.177\n",
      "    },\n",
      "    {\n",
      "      \"at1\": \"CYS E391.SG\",\n",
      "      \"at2\": \"CYS E525.SG\",\n",
      "      \"dist\": 4.1912\n",
      "    },\n",
      "    {\n",
      "      \"at1\": \"CYS E480.SG\",\n",
      "      \"at2\": \"CYS E488.SG\",\n",
      "      \"dist\": 4.2686\n",
      "    }\n",
      "  ]\n",
      "}\n"
     ]
    }
   ],
   "source": [
    "print(json.dumps(data['getss'], indent=2))"
   ]
  },
  {
   "cell_type": "code",
   "execution_count": null,
   "metadata": {},
   "outputs": [],
   "source": [
    "from biobb_model.model.fix_ssbonds import fix_ssbonds\n",
    "\n",
    "pdb_ssbonds = pdbCode + \".ssbonds.pdb\"\n",
    "\n",
    "fix_ssbonds(input_pdb_path=pdb_chiral,\n",
    "              output_pdb_path=pdb_ssbonds,\n",
    "              properties=prop)"
   ]
  },
  {
   "cell_type": "code",
   "execution_count": null,
   "metadata": {},
   "outputs": [],
   "source": [
    "# Show modified structure\n",
    "view = nglview.show_structure_file(pdb_ssbonds)\n",
    "view.add_representation(repr_type='ball+stick', selection='all')\n",
    "view._remote_call('setSize', target='Widget', args=['','400px'])\n",
    "view"
   ]
  },
  {
   "cell_type": "markdown",
   "metadata": {},
   "source": [
    "<a id=\"sidechains\"></a>\n",
    "##  Side Chains\n",
    "Presence of **missing protein side chain atoms**. MD programs only work with complete residues; some of the MD packages come with tools able to **model missing side chain atoms**, but not all of them. \n",
    "***\n",
    "Use **BioBB fix_side_chain** to model the **missing side chain atoms**. \n",
    "\n",
    " - [fix_side_chain](https://biobb-model.readthedocs.io/en/latest/model.html#module-model.fix_side_chain) from **biobb_model.model.fix_side_chain**\n",
    "***"
   ]
  },
  {
   "cell_type": "code",
   "execution_count": null,
   "metadata": {},
   "outputs": [],
   "source": [
    "# No hi ha res que marqui missing side chain atoms al report json (crec)\n",
    "#print(json.dumps(data['side_chain'], indent=2))"
   ]
  },
  {
   "cell_type": "code",
   "execution_count": null,
   "metadata": {},
   "outputs": [],
   "source": [
    "from biobb_model.model.fix_side_chain import fix_side_chain\n",
    "\n",
    "pdb_side_chains = pdbCode + \".sidechains.pdb\"\n",
    "\n",
    "prop = { \n",
    "    'use_modeller': True \n",
    "}\n",
    "\n",
    "fix_side_chain(\n",
    "    input_pdb_path=pdb_ssbonds,\n",
    "    output_pdb_path=pdb_side_chains,\n",
    "    properties=prop\n",
    ")"
   ]
  },
  {
   "cell_type": "code",
   "execution_count": null,
   "metadata": {},
   "outputs": [],
   "source": [
    "# Show modified structure\n",
    "view = nglview.show_structure_file(pdb_side_chains)\n",
    "view.add_representation(repr_type='ball+stick', selection='all')\n",
    "view._remote_call('setSize', target='Widget', args=['','400px'])\n",
    "view"
   ]
  },
  {
   "cell_type": "markdown",
   "metadata": {},
   "source": [
    "<a id=\"backbone\"></a>\n",
    "##  Backbone\n",
    "Presence of **missing backbone atoms**. **PDB files** can have **missing backbone atoms**, usually placed in **flexible regions** of the molecule. **MD programs** work with amino acid libraries that need all atoms to be present. Some MD packages tools are able to model **side chain missing atoms**, but they are rarely capable of modeling **backbone atoms**. \n",
    "***\n",
    "Use **BioBB fix_backbone** to model the **missing backbone atoms**. <br>\n",
    "***NOTE:*** *This building block is using the Modeler tool, which requires an academic license.*\n",
    "\n",
    " - [fix_backbone](https://biobb-model.readthedocs.io/en/latest/model.html#module-model.fix_backbone) from **biobb_model.model.fix_backbone**\n",
    " \n",
    "An additional **building block** is used to extract the **canonical FASTA sequence** for the protein, to be used in **Modeler** to model the **missing backbone region**:\n",
    "\n",
    " - [canonical_fasta](https://biobb-io.readthedocs.io/en/latest/api.html#module-api.canonical_fasta) from **biobb_io.api.canonical_fasta**\n",
    "\n",
    "***"
   ]
  },
  {
   "cell_type": "code",
   "execution_count": 25,
   "metadata": {},
   "outputs": [
    {
     "name": "stdout",
     "output_type": "stream",
     "text": [
      "{\n",
      "  \"missing_atoms\": {\n",
      "    \"ASP A615\": [\n",
      "      \"OXT\"\n",
      "    ],\n",
      "    \"GLY E526\": [\n",
      "      \"OXT\"\n",
      "    ]\n",
      "  }\n",
      "}\n"
     ]
    }
   ],
   "source": [
    "print(json.dumps(data['backbone'], indent=2))"
   ]
  },
  {
   "cell_type": "code",
   "execution_count": 23,
   "metadata": {},
   "outputs": [
    {
     "name": "stdout",
     "output_type": "stream",
     "text": [
      "2022-07-04 16:34:43,400 [MainThread  ] [INFO ]  Downloading: 6m0j from: https://www.rcsb.org/fasta/entry/6m0j\n",
      "2022-07-04 16:34:44,320 [MainThread  ] [INFO ]  Writting FASTA to: 6m0j.fasta\n"
     ]
    },
    {
     "name": "stderr",
     "output_type": "stream",
     "text": [
      "/anaconda3/envs/biobb_wf_structure_checking_model/lib/python3.7/site-packages/urllib3/connectionpool.py:1050: InsecureRequestWarning: Unverified HTTPS request is being made to host 'www.rcsb.org'. Adding certificate verification is strongly advised. See: https://urllib3.readthedocs.io/en/1.26.x/advanced-usage.html#ssl-warnings\n",
      "  InsecureRequestWarning,\n"
     ]
    },
    {
     "data": {
      "text/plain": [
       "0"
      ]
     },
     "execution_count": 23,
     "metadata": {},
     "output_type": "execute_result"
    }
   ],
   "source": [
    "from biobb_io.api.canonical_fasta import canonical_fasta\n",
    "\n",
    "pdb_fasta = pdbCode + \".fasta\"\n",
    "\n",
    "prop = {\n",
    "    'pdb_code': pdbCode,\n",
    "    'api_id': 'pdb'\n",
    "}\n",
    "\n",
    "canonical_fasta(\n",
    "    output_fasta_path=pdb_fasta,\n",
    "    properties=prop\n",
    ")"
   ]
  },
  {
   "cell_type": "code",
   "execution_count": null,
   "metadata": {},
   "outputs": [],
   "source": [
    "from biobb_model.model.fix_backbone import fix_backbone\n",
    "\n",
    "pdb_backbone = pdbCode + \".backbone.pdb\"\n",
    "\n",
    "fix_backbone(\n",
    "    input_pdb_path=pdb_side_chains,\n",
    "    input_fasta_canonical_sequence_path=pdb_fasta,\n",
    "    output_pdb_path=pdb_backbone,\n",
    "    properties=prop\n",
    ")"
   ]
  },
  {
   "cell_type": "code",
   "execution_count": null,
   "metadata": {},
   "outputs": [],
   "source": [
    "# Show modified structure\n",
    "view = nglview.show_structure_file(pdb_backbone)\n",
    "view.add_representation(repr_type='ball+stick', selection='all')\n",
    "view._remote_call('setSize', target='Widget', args=['','400px'])\n",
    "view"
   ]
  },
  {
   "cell_type": "markdown",
   "metadata": {},
   "source": [
    "<a id=\"clashes\"></a>\n",
    "##  Atomic Clashes\n",
    "Presence of **atomic clashes**. Atoms that are **too close in space** can have a problem of **energetic repulsion**. Most clashes come from **over-compactation** of crystal structures and are naturally corrected on **system setup** or **MD equilibration**, but may lead to a significant **distortion** of the structure. **Clashes** are detected based on **distance criteria** and are classified in different groups, depending on the **atom types** involved:\n",
    "\n",
    "- **Severe**: Atoms too close, usually indicating superimposed structures or badly modelled regions. Should be fixed.\n",
    "- **Apolar**: Vdw collisions. Usually fixed during the simulation.\n",
    "- **Polar and ionic**: Usually indicate wrong side chain conformations. Usually fixed during the simulation\n",
    "\n",
    "***\n",
    "Use the **BioBB_amber** module to energetically minimize the structure and fix **severe atomic clashes**.\n",
    "\n",
    " - [leap_gen_top](https://biobb-amber.readthedocs.io/en/latest/leap.html#module-leap.leap_gen_top) from **biobb_amber.leap.leap_gen_top**\n",
    " - [sander_mdrun](https://biobb-amber.readthedocs.io/en/latest/sander.html#module-sander.sander_mdrun) from **biobb_amber.sander.sander_mdrun**\n",
    " - [amber_to_pdb](https://biobb-amber.readthedocs.io/en/latest/ambpdb.html#module-ambpdb.amber_to_pdb) from **biobb_amber.ambpdb.amber_to_pdb**\n",
    "\n",
    "***"
   ]
  },
  {
   "cell_type": "code",
   "execution_count": null,
   "metadata": {},
   "outputs": [],
   "source": [
    "print(json.dumps(data['clashes'], indent=2))"
   ]
  },
  {
   "cell_type": "code",
   "execution_count": 9,
   "metadata": {},
   "outputs": [
    {
     "name": "stdout",
     "output_type": "stream",
     "text": [
      "2022-07-05 08:08:59,798 [MainThread  ] [INFO ]  Creating 1f9b89b2-72a6-4615-bf84-87b096c3efe8 temporary folder\n",
      "2022-07-05 08:08:59,800 [MainThread  ] [INFO ]  Not using any container\n",
      "2022-07-05 08:08:59,802 [MainThread  ] [INFO ]  tleap  -f 1f9b89b2-72a6-4615-bf84-87b096c3efe8/leap.in\n",
      "\n",
      "2022-07-05 08:09:00,907 [MainThread  ] [INFO ]  Exit code 0\n",
      "\n",
      "2022-07-05 08:09:00,909 [MainThread  ] [INFO ]  -I: Adding /anaconda3/envs/biobb_wf_structure_checking_model/dat/leap/prep to search path.\n",
      "-I: Adding /anaconda3/envs/biobb_wf_structure_checking_model/dat/leap/lib to search path.\n",
      "-I: Adding /anaconda3/envs/biobb_wf_structure_checking_model/dat/leap/parm to search path.\n",
      "-I: Adding /anaconda3/envs/biobb_wf_structure_checking_model/dat/leap/cmd to search path.\n",
      "-f: Source 1f9b89b2-72a6-4615-bf84-87b096c3efe8/leap.in.\n",
      "\n",
      "Welcome to LEaP!\n",
      "(no leaprc in search path)\n",
      "Sourcing: ./1f9b89b2-72a6-4615-bf84-87b096c3efe8/leap.in\n",
      "----- Source: /anaconda3/envs/biobb_wf_structure_checking_model/dat/leap/cmd/leaprc.protein.ff14SB\n",
      "----- Source of /anaconda3/envs/biobb_wf_structure_checking_model/dat/leap/cmd/leaprc.protein.ff14SB done\n",
      "Log file: ./leap.log\n",
      "Loading parameters: /anaconda3/envs/biobb_wf_structure_checking_model/dat/leap/parm/parm10.dat\n",
      "Reading title:\n",
      "PARM99 + frcmod.ff99SB + frcmod.parmbsc0 + OL3 for RNA\n",
      "Loading parameters: /anaconda3/envs/biobb_wf_structure_checking_model/dat/leap/parm/frcmod.ff14SB\n",
      "Reading force field modification type file (frcmod)\n",
      "Reading title:\n",
      "ff14SB protein backbone and sidechain parameters\n",
      "Loading library: /anaconda3/envs/biobb_wf_structure_checking_model/dat/leap/lib/amino12.lib\n",
      "Loading library: /anaconda3/envs/biobb_wf_structure_checking_model/dat/leap/lib/aminoct12.lib\n",
      "Loading library: /anaconda3/envs/biobb_wf_structure_checking_model/dat/leap/lib/aminont12.lib\n",
      "Loading PDB file: ./6m0j.chains.pdb\n",
      "-- residue 776: duplicate [ CA] atoms (total 2)\n",
      "-- residue 776: duplicate [ CB] atoms (total 2)\n",
      "-- residue 776: duplicate [ CD] atoms (total 2)\n",
      "-- residue 776: duplicate [ CG] atoms (total 2)\n",
      "-- residue 776: duplicate [ NE2] atoms (total 2)\n",
      "-- residue 776: duplicate [ OE1] atoms (total 2)\n",
      "-- residue 228: duplicate [ CA] atoms (total 2)\n",
      "-- residue 228: duplicate [ CB] atoms (total 2)\n",
      "-- residue 228: duplicate [ CD2] atoms (total 2)\n",
      "-- residue 228: duplicate [ CE1] atoms (total 2)\n",
      "-- residue 228: duplicate [ CG] atoms (total 2)\n",
      "-- residue 228: duplicate [ ND1] atoms (total 2)\n",
      "-- residue 228: duplicate [ NE2] atoms (total 2)\n",
      "\n",
      "/anaconda3/envs/biobb_wf_structure_checking_model/bin/teLeap: Warning!\n",
      "Atom names in each residue should be unique.\n",
      "     (Same-name atoms are handled by using the first\n",
      "      occurrence and by ignoring the rest.\n",
      "      Frequently duplicate atom names stem from alternate\n",
      "      conformations in the PDB file.)\n",
      "\n",
      "  Added missing heavy atom: .R<CASP 615>.A<OXT 13>\n",
      "  Added missing heavy atom: .R<CGLY 809>.A<OXT 8>\n",
      "  total atoms in file: 6419\n",
      "  Leap added 6118 missing atoms according to residue templates:\n",
      "       2 Heavy\n",
      "       6116 H / lone pairs\n",
      "Writing pdb file: 6m0j.amber.pdb\n",
      "\n",
      "/anaconda3/envs/biobb_wf_structure_checking_model/bin/teLeap: Warning!\n",
      " Converting N-terminal residue name to PDB format: NSER -> SER\n",
      "\n",
      "/anaconda3/envs/biobb_wf_structure_checking_model/bin/teLeap: Warning!\n",
      " Converting C-terminal residue name to PDB format: CASP -> ASP\n",
      "\n",
      "/anaconda3/envs/biobb_wf_structure_checking_model/bin/teLeap: Warning!\n",
      " Converting N-terminal residue name to PDB format: NTHR -> THR\n",
      "\n",
      "/anaconda3/envs/biobb_wf_structure_checking_model/bin/teLeap: Warning!\n",
      " Converting C-terminal residue name to PDB format: CGLY -> GLY\n",
      "Checking Unit.\n",
      "\n",
      "/anaconda3/envs/biobb_wf_structure_checking_model/bin/teLeap: Warning!\n",
      "The unperturbed charge of the unit (-26.000000) is not zero.\n",
      "\n",
      "/anaconda3/envs/biobb_wf_structure_checking_model/bin/teLeap: Note.\n",
      "Ignoring the warning from Unit Checking.\n",
      "\n",
      "Building topology.\n",
      "Building atom parameters.\n",
      "Building bond parameters.\n",
      "Building angle parameters.\n",
      "Building proper torsion parameters.\n",
      "Building improper torsion parameters.\n",
      " total 2737 improper torsions applied\n",
      "Building H-Bond parameters.\n",
      "Incorporating Non-Bonded adjustments.\n",
      "Not Marking per-residue atom chain types.\n",
      "Marking per-residue atom chain types.\n",
      "  (Residues lacking connect0/connect1 - \n",
      "   these don't have chain types marked:\n",
      "\n",
      "\tres\ttotal affected\n",
      "\n",
      "\tCASP\t1\n",
      "\tCGLY\t1\n",
      "\tNSER\t1\n",
      "\tNTHR\t1\n",
      "  )\n",
      " (no restraints)\n",
      "\tQuit\n",
      "\n",
      "Exiting LEaP: Errors = 0; Warnings = 6; Notes = 1.\n",
      "\n",
      "2022-07-05 08:09:00,912 [MainThread  ] [INFO ]  Removed: ['1f9b89b2-72a6-4615-bf84-87b096c3efe8', 'leap.log']\n"
     ]
    },
    {
     "data": {
      "text/plain": [
       "0"
      ]
     },
     "execution_count": 9,
     "metadata": {},
     "output_type": "execute_result"
    }
   ],
   "source": [
    "from biobb_amber.leap.leap_gen_top import leap_gen_top\n",
    "\n",
    "pdb_amber = pdbCode + \".amber.pdb\"\n",
    "top_amber = pdbCode + \".amber.top\"\n",
    "crd_amber = pdbCode + \".amber.crd\"\n",
    "\n",
    "prop = {\n",
    "    'forcefield': ['protein.ff14SB']\n",
    "}\n",
    "\n",
    "leap_gen_top(\n",
    "    input_pdb_path=pdb_chains,\n",
    "    output_pdb_path=pdb_amber,\n",
    "    output_top_path=top_amber,\n",
    "    output_crd_path=crd_amber,\n",
    "    properties=prop\n",
    ")"
   ]
  },
  {
   "cell_type": "code",
   "execution_count": 15,
   "metadata": {},
   "outputs": [
    {
     "name": "stdout",
     "output_type": "stream",
     "text": [
      "2022-07-05 08:18:43,097 [MainThread  ] [INFO ]  Creating 10989853-4ede-4e05-8061-df26de31df8c temporary folder\n",
      "2022-07-05 08:18:43,099 [MainThread  ] [INFO ]  Not using any container\n",
      "2022-07-05 08:18:43,101 [MainThread  ] [INFO ]  sander -O -i 10989853-4ede-4e05-8061-df26de31df8c/sander.mdin -p 6m0j.amber.top -c 6m0j.amber.crd -r 6m0j.amber.rst -o 6m0j.amber.log -x 6m0j.amber.crd\n",
      "\n",
      "2022-07-05 08:20:30,984 [MainThread  ] [INFO ]  Exit code 0\n",
      "\n",
      "2022-07-05 08:20:30,987 [MainThread  ] [INFO ]  Removed: ['10989853-4ede-4e05-8061-df26de31df8c', 'mdinfo']\n"
     ]
    },
    {
     "data": {
      "text/plain": [
       "0"
      ]
     },
     "execution_count": 15,
     "metadata": {},
     "output_type": "execute_result"
    }
   ],
   "source": [
    "from biobb_amber.sander.sander_mdrun import sander_mdrun\n",
    "\n",
    "trj_amber = pdbCode + \".amber.crd\"\n",
    "rst_amber = pdbCode + \".amber.rst\"\n",
    "log_amber = pdbCode + \".amber.log\"\n",
    "\n",
    "prop = {\n",
    "    'simulation_type' : 'minimization',\n",
    "    'mdin' : {\n",
    "        'ntb' : 0,        # Periodic Boundary. No periodicity is applied and PME (Particle Mesh Ewald) is off.\n",
    "        'cut' : 12,       # Nonbonded cutoff, in Angstroms.\n",
    "        'maxcyc' : 500,   # Maximum number of cycles of minimization.\n",
    "        'ncyc' : 50       # Minimization will be switched from steepest descent to conjugate gradient after ncyc cycles.\n",
    "    }\n",
    "}\n",
    "\n",
    "sander_mdrun(\n",
    "     input_top_path=top_amber,\n",
    "     input_crd_path=crd_amber,\n",
    "     output_traj_path=trj_amber,\n",
    "     output_rst_path=rst_amber,\n",
    "     output_log_path=log_amber,\n",
    "     properties=prop\n",
    ")"
   ]
  },
  {
   "cell_type": "code",
   "execution_count": 32,
   "metadata": {},
   "outputs": [
    {
     "name": "stdout",
     "output_type": "stream",
     "text": [
      "2022-07-05 08:41:57,615 [MainThread  ] [INFO ]  Not using any container\n",
      "2022-07-05 08:41:57,616 [MainThread  ] [INFO ]  ambpdb  -p 6m0j.amber.top -c 6m0j.amber.rst >  6m0j.amber-min.pdb\n",
      "\n",
      "2022-07-05 08:41:57,846 [MainThread  ] [INFO ]  Exit code 0\n",
      "\n"
     ]
    },
    {
     "data": {
      "text/plain": [
       "0"
      ]
     },
     "execution_count": 32,
     "metadata": {},
     "output_type": "execute_result"
    }
   ],
   "source": [
    "from biobb_amber.ambpdb.amber_to_pdb import amber_to_pdb\n",
    "\n",
    "pdb_amber_min = pdbCode + \".amber-min.pdb\"\n",
    "\n",
    "amber_to_pdb(\n",
    "      input_top_path=top_amber,\n",
    "      input_crd_path=rst_amber,\n",
    "      output_pdb_path=pdb_amber_min\n",
    ")"
   ]
  },
  {
   "cell_type": "markdown",
   "metadata": {},
   "source": [
    "<a id=\"finalcheck\"></a>\n",
    "##  Final Check\n",
    "Checking the **final structure** to analyse the **possible issues** present in the **modified structure** in comparison with the issues we found with the **original structure** at the beginning of the workflow. "
   ]
  },
  {
   "cell_type": "code",
   "execution_count": 33,
   "metadata": {
    "scrolled": true
   },
   "outputs": [
    {
     "name": "stdout",
     "output_type": "stream",
     "text": [
      "2022-07-05 08:42:01,049 [MainThread  ] [INFO ]  No features provided, all features will be computed: models, chains, altloc, metals, ligands, chiral, getss, cistransbck, backbone, amide, clashes\n",
      "2022-07-05 08:42:01,051 [MainThread  ] [INFO ]  Creating a8e21aa4-7383-4dac-9dc0-3727cfcd00ae temporary folder\n",
      "2022-07-05 08:42:01,055 [MainThread  ] [INFO ]  Not using any container\n",
      "2022-07-05 08:42:01,056 [MainThread  ] [INFO ]  check_structure -i /Users/hospital/biobb_tutorials/biobb_wf_structure_checking/biobb_wf_structure_checking/notebooks/6m0j.amber-min.pdb --json 6m0j.report_final.json --check_only --non_interactive command_list --list a8e21aa4-7383-4dac-9dc0-3727cfcd00ae/command_list.lst\n",
      "\n",
      "2022-07-05 08:42:21,121 [MainThread  ] [INFO ]  Exit code 0\n",
      "\n",
      "2022-07-05 08:42:21,124 [MainThread  ] [INFO ]  ===============================================================================\n",
      "=                   BioBB structure checking utility v3.9.11                   =\n",
      "=            P. Andrio, A. Hospital, G. Bayarri, J.L. Gelpi 2018-22           =\n",
      "===============================================================================\n",
      "\n",
      "Warning: sequence features only available in mmCIF format or with external fasta input\n",
      "Structure /Users/hospital/biobb_tutorials/biobb_wf_structure_checking/biobb_wf_structure_checking/notebooks/6m0j.amber-min.pdb loaded\n",
      " Title: \n",
      " Experimental method: unknown\n",
      " Resolution (A): N.A.\n",
      "\n",
      " Num. models: 1\n",
      " Num. chains: 1 ( : Protein)\n",
      " Num. residues:  791\n",
      " Num. residues with ins. codes:  0\n",
      " Num. HETATM residues:  0\n",
      " Num. ligands or modified residues:  0\n",
      " Num. water mol.:  0\n",
      " Num. atoms:  12524\n",
      "\n",
      "\n",
      "Step 1: models\n",
      "\n",
      "Running models.\n",
      "1 Model(s) detected\n",
      "Single model found\n",
      "\n",
      "Step 2: chains\n",
      "\n",
      "Running chains.\n",
      "1 Chain(s) detected\n",
      "  : Protein\n",
      "\n",
      "Step 3: altloc\n",
      "\n",
      "Running altloc.\n",
      "No residues with alternative location labels detected\n",
      "\n",
      "Step 4: metals\n",
      "\n",
      "Running metals.\n",
      "No metal ions found\n",
      "\n",
      "Step 5: ligands\n",
      "\n",
      "Running ligands.\n",
      "No ligands found\n",
      "\n",
      "Step 6: chiral\n",
      "\n",
      "Running chiral.\n",
      "No residues with incorrect side-chain chirality found\n",
      "\n",
      "Step 7: getss\n",
      "\n",
      "Running getss.\n",
      "No SS bonds detected\n",
      "\n",
      "Step 8: cistransbck\n",
      "\n",
      "Running cistransbck.\n",
      "1 cis peptide bonds\n",
      "GLU  127   PRO  128   Dihedral:  -15.758\n",
      "16 trans peptide bonds with unusual omega dihedrals\n",
      "LEU  124   LEU  125   Dihedral:  155.897\n",
      "PRO  128   GLY  129   Dihedral: -154.762\n",
      "CYS  343   THR  344   Dihedral: -156.964\n",
      "ASN  490   ASP  491   Dihedral:  156.459\n",
      "THR  329   ALA  330   Dihedral:  153.054\n",
      "ALA  628   ASP  629   Dihedral: -158.480\n",
      "TRP  331   ASP  332   Dihedral:  156.700\n",
      "SER  88    VAL  89    Dihedral:  150.480\n",
      "ALA  613   SER  614   Dihedral:  157.728\n",
      "LEU  726   LYS  727   Dihedral:  158.637\n",
      "SER  584   PHE  585   Dihedral: -155.983\n",
      "TRP  588   SER  589   Dihedral:  159.196\n",
      "CYS  790   GLY  791   Dihedral:  148.894\n",
      "LEU  652   ASN  653   Dihedral:  155.459\n",
      "ASP  654   LEU  655   Dihedral: -159.765\n",
      "VAL  555   VAL  556   Dihedral: -159.015\n",
      "\n",
      "Step 9: backbone\n",
      "\n",
      "Running backbone.\n",
      "No residues with missing backbone atoms found\n",
      "1 Backbone breaks found\n",
      " ASP  597   - THR  598   \n",
      "No unexpected backbone links\n",
      "Consecutive residues too far away to be covalently linked\n",
      " ASP  597   - THR  598  , bond distance  109.451 \n",
      "\n",
      "Step 10: amide\n",
      "\n",
      "Running amide.\n",
      "2 unusual contact(s) involving amide atoms found\n",
      " ASN  85.OD1  ASN  176.OD1    3.023 A\n",
      " GLY  761.O   GLN  763.OE1    3.056 A\n",
      "\n",
      "Step 11: clashes\n",
      "\n",
      "Running clashes.\n",
      "No severe clashes detected\n",
      "No apolar clashes detected\n",
      "6 Steric polar_acceptor clashes detected\n",
      " ASN  85.OD1  ASN  176.OD1    3.023 A\n",
      " ASP  337.OD2 THR  765.O      3.003 A\n",
      " LYS  463.O   VAL  469.O      3.054 A\n",
      " ASP  670.OD2 GLY  769.O      3.058 A\n",
      " ASN  713.O   TYR  760.O      2.969 A\n",
      " GLY  761.O   GLN  763.OE1    3.056 A\n",
      "No polar_donor clashes detected\n",
      "No positive clashes detected\n",
      "No negative clashes detected\n",
      "Command list completed\n",
      "Summary data saved on 6m0j.report_final.json\n",
      "\n",
      "2022-07-05 08:42:21,125 [MainThread  ] [INFO ]  Removed: []\n"
     ]
    },
    {
     "data": {
      "text/plain": [
       "0"
      ]
     },
     "execution_count": 33,
     "metadata": {},
     "output_type": "execute_result"
    }
   ],
   "source": [
    "from biobb_structure_utils.utils.structure_check import structure_check\n",
    "\n",
    "report_final = pdbCode + \".report_final.json\"\n",
    "\n",
    "prop = {\n",
    "    #'features': ['clashes'] \n",
    "    'features': None  \n",
    "}\n",
    "\n",
    "structure_check(\n",
    "    input_structure_path=pdb_amber_min,\n",
    "    output_summary_path=report_final,\n",
    "    properties=prop\n",
    ")"
   ]
  },
  {
   "cell_type": "code",
   "execution_count": 34,
   "metadata": {},
   "outputs": [
    {
     "name": "stdout",
     "output_type": "stream",
     "text": [
      "{\n",
      "  \"altloc\": {},\n",
      "  \"amide\": {\n",
      "    \"detected\": [\n",
      "      {\n",
      "        \"at1\": \"ASN  85.OD1\",\n",
      "        \"at2\": \"ASN  176.OD1\",\n",
      "        \"dist\": 3.023\n",
      "      },\n",
      "      {\n",
      "        \"at1\": \"GLY  761.O\",\n",
      "        \"at2\": \"GLN  763.OE1\",\n",
      "        \"dist\": 3.056\n",
      "      }\n",
      "    ],\n",
      "    \"n_amides\": 92\n",
      "  },\n",
      "  \"backbone\": {\n",
      "    \"breaks\": {\n",
      "      \"detected\": [\n",
      "        [\n",
      "          \"ASP  597\",\n",
      "          \"THR  598\"\n",
      "        ]\n",
      "      ]\n",
      "    },\n",
      "    \"long_links\": [\n",
      "      [\n",
      "        \"ASP  597\",\n",
      "        \"THR  598\",\n",
      "        109.45083\n",
      "      ]\n",
      "    ]\n",
      "  },\n",
      "  \"chains\": {\n",
      "    \"ids\": {\n",
      "      \" \": 1\n",
      "    }\n",
      "  },\n",
      "  \"chiral\": {\n",
      "    \"n_chirals\": 72\n",
      "  },\n",
      "  \"cistransbck\": {\n",
      "    \"cis\": [\n",
      "      [\n",
      "        \"GLU  127\",\n",
      "        \"PRO  128\",\n",
      "        -15.758\n",
      "      ]\n",
      "    ],\n",
      "    \"unusual_trans\": [\n",
      "      [\n",
      "        \"LEU  124\",\n",
      "        \"LEU  125\",\n",
      "        155.897\n",
      "      ],\n",
      "      [\n",
      "        \"PRO  128\",\n",
      "        \"GLY  129\",\n",
      "        -154.762\n",
      "      ],\n",
      "      [\n",
      "        \"CYS  343\",\n",
      "        \"THR  344\",\n",
      "        -156.964\n",
      "      ],\n",
      "      [\n",
      "        \"ASN  490\",\n",
      "        \"ASP  491\",\n",
      "        156.459\n",
      "      ],\n",
      "      [\n",
      "        \"THR  329\",\n",
      "        \"ALA  330\",\n",
      "        153.054\n",
      "      ],\n",
      "      [\n",
      "        \"ALA  628\",\n",
      "        \"ASP  629\",\n",
      "        -158.48\n",
      "      ],\n",
      "      [\n",
      "        \"TRP  331\",\n",
      "        \"ASP  332\",\n",
      "        156.7\n",
      "      ],\n",
      "      [\n",
      "        \"SER  88\",\n",
      "        \"VAL  89\",\n",
      "        150.48\n",
      "      ],\n",
      "      [\n",
      "        \"ALA  613\",\n",
      "        \"SER  614\",\n",
      "        157.728\n",
      "      ],\n",
      "      [\n",
      "        \"LEU  726\",\n",
      "        \"LYS  727\",\n",
      "        158.637\n",
      "      ],\n",
      "      [\n",
      "        \"SER  584\",\n",
      "        \"PHE  585\",\n",
      "        -155.983\n",
      "      ],\n",
      "      [\n",
      "        \"TRP  588\",\n",
      "        \"SER  589\",\n",
      "        159.196\n",
      "      ],\n",
      "      [\n",
      "        \"CYS  790\",\n",
      "        \"GLY  791\",\n",
      "        148.894\n",
      "      ],\n",
      "      [\n",
      "        \"LEU  652\",\n",
      "        \"ASN  653\",\n",
      "        155.459\n",
      "      ],\n",
      "      [\n",
      "        \"ASP  654\",\n",
      "        \"LEU  655\",\n",
      "        -159.765\n",
      "      ],\n",
      "      [\n",
      "        \"VAL  555\",\n",
      "        \"VAL  556\",\n",
      "        -159.015\n",
      "      ]\n",
      "    ]\n",
      "  },\n",
      "  \"clashes\": {\n",
      "    \"detected\": {\n",
      "      \"apolar\": [],\n",
      "      \"negative\": [],\n",
      "      \"polar_acceptor\": [\n",
      "        {\n",
      "          \"at1\": \"ASN  85.OD1\",\n",
      "          \"at2\": \"ASN  176.OD1\",\n",
      "          \"dist\": 3.023\n",
      "        },\n",
      "        {\n",
      "          \"at1\": \"ASP  337.OD2\",\n",
      "          \"at2\": \"THR  765.O\",\n",
      "          \"dist\": 3.0032\n",
      "        },\n",
      "        {\n",
      "          \"at1\": \"LYS  463.O\",\n",
      "          \"at2\": \"VAL  469.O\",\n",
      "          \"dist\": 3.0539\n",
      "        },\n",
      "        {\n",
      "          \"at1\": \"ASP  670.OD2\",\n",
      "          \"at2\": \"GLY  769.O\",\n",
      "          \"dist\": 3.0582\n",
      "        },\n",
      "        {\n",
      "          \"at1\": \"ASN  713.O\",\n",
      "          \"at2\": \"TYR  760.O\",\n",
      "          \"dist\": 2.9686\n",
      "        },\n",
      "        {\n",
      "          \"at1\": \"GLY  761.O\",\n",
      "          \"at2\": \"GLN  763.OE1\",\n",
      "          \"dist\": 3.056\n",
      "        }\n",
      "      ],\n",
      "      \"polar_donor\": [],\n",
      "      \"positive\": [],\n",
      "      \"severe\": []\n",
      "    }\n",
      "  },\n",
      "  \"getss\": {},\n",
      "  \"headers\": {\n",
      "    \"method\": \"unknown\",\n",
      "    \"resolution\": \"N.A.\",\n",
      "    \"title\": \"\"\n",
      "  },\n",
      "  \"ligands\": {},\n",
      "  \"metals\": {},\n",
      "  \"models\": {\n",
      "    \"nmodels\": 1\n",
      "  },\n",
      "  \"stats\": {\n",
      "    \"biounit\": false,\n",
      "    \"ca_only\": false,\n",
      "    \"chain_details\": {},\n",
      "    \"chain_ids\": {\n",
      "      \" \": 1\n",
      "    },\n",
      "    \"models_type\": 0,\n",
      "    \"nchains\": 1,\n",
      "    \"nmodels\": 1,\n",
      "    \"num_ats\": 12524,\n",
      "    \"num_res\": 791,\n",
      "    \"num_wat\": 0,\n",
      "    \"res_hetats\": 0,\n",
      "    \"res_insc\": 0,\n",
      "    \"res_ligands\": 0,\n",
      "    \"total_charge\": null\n",
      "  }\n",
      "}\n"
     ]
    }
   ],
   "source": [
    "import json\n",
    "with open(report_final, 'r') as f:\n",
    "  data_final = json.load(f)\n",
    "print(json.dumps(data_final, indent=2))"
   ]
  },
  {
   "cell_type": "code",
   "execution_count": 38,
   "metadata": {},
   "outputs": [],
   "source": [
    "# import jsondiff\n",
    "# res = jsondiff.diff(data, data_final)\n",
    "# #res = jsondiff.diff(data, data_final, syntax='explicit')\n",
    "# if res:\n",
    "#     print(\"Diff found\")\n",
    "#     print(res)\n",
    "#     #print(json.dumps(res, indent=2))\n",
    "# else:\n",
    "#     print(\"Same\")"
   ]
  },
  {
   "cell_type": "markdown",
   "metadata": {},
   "source": [
    "***\n",
    "<a id=\"questions\"></a>\n",
    "\n",
    "## Questions & Comments\n",
    "\n",
    "Questions, issues, suggestions and comments are really welcome!\n",
    "\n",
    "* GitHub issues:\n",
    "    * [https://github.com/bioexcel/biobb](https://github.com/bioexcel/biobb)\n",
    "\n",
    "* BioExcel forum:\n",
    "    * [https://ask.bioexcel.eu/c/BioExcel-Building-Blocks-library](https://ask.bioexcel.eu/c/BioExcel-Building-Blocks-library)"
   ]
  }
 ],
 "metadata": {
  "kernelspec": {
   "display_name": "Python 3 (ipykernel)",
   "language": "python",
   "name": "python3"
  },
  "language_info": {
   "codemirror_mode": {
    "name": "ipython",
    "version": 3
   },
   "file_extension": ".py",
   "mimetype": "text/x-python",
   "name": "python",
   "nbconvert_exporter": "python",
   "pygments_lexer": "ipython3",
   "version": "3.7.12"
  }
 },
 "nbformat": 4,
 "nbformat_minor": 2
}
