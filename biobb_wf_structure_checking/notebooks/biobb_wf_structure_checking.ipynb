{
 "cells": [
  {
   "cell_type": "markdown",
   "metadata": {},
   "source": [
    "# Molecular Structure Checking using BioExcel Building Blocks (biobb)\n",
    "\n",
    "***\n",
    "This tutorial aims to illustrate the process of **checking** a **molecular structure** before using it as an input for a **Molecular Dynamics** simulation. The workflow uses the **BioExcel Building Blocks library (biobb)**. The particular structure used is the crystal structure of **human Adenylate Kinase 1A (AK1A)**, in complex with the **AP5A inhibitor** (PDB code [1Z83](https://www.rcsb.org/structure/1z83)).  \n",
    "\n",
    "**Structure checking** is a key step before setting up a protein system for **simulations**. A number of **common issues** found in structures at **Protein Data Bank** may compromise the success of the **simulation**, or may suggest that longer **equilibration** procedures are necessary.\n",
    "\n",
    "The **workflow** shows how to:\n",
    "\n",
    "- Run **basic manipulations on structures** (selection of models, chains, alternative locations\n",
    "- Detect and fix **amide assignments** and **wrong chiralities**\n",
    "- Detect and fix **protein backbone** issues (missing fragments, and atoms, capping)\n",
    "- Detect and fix **missing side-chain atoms**\n",
    "- **Add hydrogen atoms** according to several criteria\n",
    "- Detect and classify **atomic clashes**\n",
    "- Detect possible **disulfide bonds (SS)**\n",
    "\n",
    "***NOTE***: \n",
    "- Some of the workflow steps work with **AMBER force-field nomenclature** (e.g. CYX, HID, HIE), and thus the output structure might be slightly modified to use it with different **force-fields**. \n",
    "\n",
    "An implementation of this workflow in a **web-based Graphical User Interface (GUI)** can be found in the https://mmb.irbbarcelona.org/biobb-wfs/ server (see https://mmb.irbbarcelona.org/biobb-wfs/help/create/structure#check).\n",
    "\n",
    "***\n",
    "\n",
    "## Settings\n",
    "\n",
    "### Biobb modules used\n",
    "\n",
    " - [biobb_io](https://github.com/bioexcel/biobb_io): Tools to fetch biomolecular data from public databases.\n",
    " - [biobb_structure_utils](https://github.com/bioexcel/biobb_structure_utils): Tools to modify or extract information from a PDB structure.\n",
    " - [biobb_model](https://github.com/bioexcel/biobb_model): Tools to check and model 3D structures, create mutations or reconstruct missing atoms.\n",
    " - [biobb_amber](https://github.com/bioexcel/biobb_amber): Tools to setup and simulate atomistic MD simulations using AMBER MD package.\n",
    " - [biobb_chemistry](https://github.com/bioexcel/biobb_chemistry): Tools to perform chemoinformatics on molecular structures.\n",
    "  \n",
    "### Auxiliar libraries used\n",
    "\n",
    " - [nb_conda_kernels](https://github.com/Anaconda-Platform/nb_conda_kernels): Enables a Jupyter Notebook or JupyterLab application in one conda environment to access kernels for Python, R, and other languages found in other environments.\n",
    " - [ipywidgets](https://github.com/jupyter-widgets/ipywidgets): Interactive HTML widgets for Jupyter notebooks and the IPython kernel.\n",
    " - [nglview](http://nglviewer.org/#nglview): Jupyter/IPython widget to interactively view molecular structures and trajectories in notebooks.\n",
    "\n",
    "\n",
    "### Conda Installation and Launch\n",
    "\n",
    "```console\n",
    "git clone https://github.com/bioexcel/biobb_wf_structure_checking.git\n",
    "cd biobb_wf_structure_checking\n",
    "conda env create -f conda_env/environment.yml\n",
    "conda activate biobb_wf_structure_checking\n",
    "jupyter-nbextension enable --py --user widgetsnbextension\n",
    "jupyter-notebook biobb_wf_cmip/notebooks/biobb_wf_structure_checking.ipynb\n",
    "  ``` \n",
    "\n",
    "***\n",
    "## Pipeline steps\n",
    " 1. [Input Parameters](#input)\n",
    " 2. [Fetching PDB structure](#fetch)\n",
    " 3. [PDB structure checking](#PDBchecking)\n",
    "     1. [Models](#models)\n",
    "     2. [Chains](#chains)\n",
    "     3. [Alternative Locations](#altlocs) \n",
    "     4. [Disulfide Bridges](#ss)\n",
    "     5. [Metal Ions](#metals)\n",
    "     6. [Ligands](#ligands)\n",
    "     7. [Hydrogen Atoms](#hydrogens)\n",
    "     8. [Water Molecules](#water)\n",
    "     9. [Amide Groups](#amide)\n",
    "     10. [Chirality](#chirality)\n",
    "     11. [Missing Side Chain Atoms](#sidechains)\n",
    "     12. [Missing Backbone Atoms](#backbone)     \n",
    "     13. [Atomic Clashes](#clashes)\n",
    "     14. [Final Check](#finalcheck)\n",
    " 8. [Questions & Comments](#questions)\n",
    " \n",
    "***\n",
    "<img src=\"https://bioexcel.eu/wp-content/uploads/2019/04/Bioexcell_logo_1080px_transp.png\" alt=\"Bioexcel2 logo\"\n",
    "\ttitle=\"Bioexcel2 logo\" width=\"400\" />\n",
    "***"
   ]
  },
  {
   "cell_type": "markdown",
   "metadata": {},
   "source": [
    "<a id=\"input\"></a>\n",
    "## Input parameters\n",
    "**Input parameters** needed:\n",
    " - **pdbCode**: PDB code of the protein structure (e.g. 6M0J)"
   ]
  },
  {
   "cell_type": "code",
   "execution_count": null,
   "metadata": {},
   "outputs": [],
   "source": [
    "import nglview\n",
    "import ipywidgets\n",
    "\n",
    "pdbCode = \"1z83\" # Should be replaced to check different structures "
   ]
  },
  {
   "cell_type": "markdown",
   "metadata": {},
   "source": [
    "<a id=\"fetch\"></a>\n",
    "***\n",
    "## Fetching PDB structure\n",
    "Downloading **PDB structure** with the **protein molecule** from the RCSB PDB database.<br>\n",
    "Alternatively, a **PDB file** can be used as starting structure. <br>\n",
    "***\n",
    "**Building Blocks** used:\n",
    " - [Pdb](https://biobb-io.readthedocs.io/en/latest/api.html#module-api.pdb) from **biobb_io.api.pdb**\n",
    "***"
   ]
  },
  {
   "cell_type": "code",
   "execution_count": null,
   "metadata": {},
   "outputs": [],
   "source": [
    "# Downloading desired PDB file \n",
    "# Import module\n",
    "from biobb_io.api.pdb import pdb\n",
    "\n",
    "# Create properties dict and inputs/outputs\n",
    "downloaded_pdb = pdbCode+'.pdb'\n",
    "prop = {\n",
    "    'pdb_code': pdbCode,\n",
    "    'filter': ['ATOM', 'HETATM'],\n",
    "}\n",
    "\n",
    "#Create and launch bb\n",
    "pdb(output_pdb_path=downloaded_pdb,\n",
    "    properties=prop)"
   ]
  },
  {
   "cell_type": "markdown",
   "metadata": {},
   "source": [
    "<a id=\"vis3D\"></a>\n",
    "### Visualizing 3D structure\n",
    "Visualizing the downloaded/given **PDB structure** using **NGL**: "
   ]
  },
  {
   "cell_type": "code",
   "execution_count": null,
   "metadata": {},
   "outputs": [],
   "source": [
    "# Show original structure\n",
    "view = nglview.show_structure_file(downloaded_pdb)\n",
    "view.add_representation(repr_type='spacefill', selection='ion')\n",
    "view.add_representation(repr_type='spacefill', radius='0.3', selection='water')\n",
    "view._remote_call('setSize', target='Widget', args=['','400px'])\n",
    "view"
   ]
  },
  {
   "cell_type": "markdown",
   "metadata": {},
   "source": [
    "<a id=\"PDBchecking\"></a>\n",
    "***\n",
    "## PDB structure checking\n",
    "The first step of the workflow is a complete **checking** of the **molecular structure**. The **BioBB** utility **structure_check** parses the whole **PDB file**, runs a complete **structure checking**, saves **useful information** about the structure and looks for **possible issues**. The block is printing a **report** of the information extracted from the **input structure**. \n",
    "***\n",
    "**Building Blocks** used:\n",
    " - [structure_check](https://biobb-structure-utils.readthedocs.io/en/latest/utils.html#module-utils.structure_check) from **biobb_structure_utils.utils.structure_check**\n",
    "***"
   ]
  },
  {
   "cell_type": "code",
   "execution_count": null,
   "metadata": {
    "scrolled": true
   },
   "outputs": [],
   "source": [
    "from biobb_structure_utils.utils.structure_check import structure_check\n",
    "\n",
    "report = pdbCode + \".report.json\"\n",
    "\n",
    "structure_check(\n",
    "    input_structure_path=downloaded_pdb,\n",
    "    output_summary_path=report\n",
    ")"
   ]
  },
  {
   "cell_type": "markdown",
   "metadata": {},
   "source": [
    "<a id=\"StepByStep\"></a>\n",
    "***\n",
    "## Structure checking, step by step\n",
    "The **workflow** will go through the **report**, exploring all the different **features** analysed. The following cell is showing the **full content** of the **report**.\n",
    "***"
   ]
  },
  {
   "cell_type": "code",
   "execution_count": null,
   "metadata": {},
   "outputs": [],
   "source": [
    "import json\n",
    "with open(report, 'r') as f:\n",
    "  data = json.load(f)\n",
    "print(json.dumps(data, indent=2))"
   ]
  },
  {
   "cell_type": "markdown",
   "metadata": {},
   "source": [
    "<a id=\"models\"></a>\n",
    "##  Models\n",
    "Presence of **models** in the structure. MD simulations require a single structure, although some structures (e.g. biounits) may be defined as a series of models, in such case all of them are usually required.\n",
    "***\n",
    "Use **BioBB extract_model** to select the desired **models**. \n",
    "\n",
    " - [extract_model](https://biobb-structure-utils.readthedocs.io/en/latest/utils.html#module-utils.extract_model) from **biobb_structure_utils.utils.extract_model**\n",
    "***"
   ]
  },
  {
   "cell_type": "code",
   "execution_count": null,
   "metadata": {},
   "outputs": [],
   "source": [
    "print(json.dumps(data['models'], indent=2))"
   ]
  },
  {
   "cell_type": "code",
   "execution_count": null,
   "metadata": {
    "scrolled": true
   },
   "outputs": [],
   "source": [
    "from biobb_structure_utils.utils.extract_model import extract_model\n",
    "\n",
    "pdb_models = pdbCode + \".models.pdb\"\n",
    "\n",
    "prop = {\n",
    "    'models': [ 1 ]\n",
    "}\n",
    "\n",
    "extract_model(\n",
    "    input_structure_path=downloaded_pdb,\n",
    "    output_structure_path=pdb_models,\n",
    "    properties=prop\n",
    ")"
   ]
  },
  {
   "cell_type": "code",
   "execution_count": null,
   "metadata": {},
   "outputs": [],
   "source": [
    "# Show modified structure\n",
    "view = nglview.show_structure_file(pdb_models)\n",
    "view.add_representation(repr_type='spacefill', selection='ion')\n",
    "view.add_representation(repr_type='spacefill', radius='0.3', selection='water')\n",
    "view._remote_call('setSize', target='Widget', args=['','400px'])\n",
    "view"
   ]
  },
  {
   "cell_type": "markdown",
   "metadata": {},
   "source": [
    "<a id=\"chains\"></a>\n",
    "##  Chains\n",
    "Presence of **chains** in the structure. MD simulations are usually performed with complete structures. However input structure may contain **several copies of the system**, or contain **additional chains** like **peptides** or **nucleic acids** that may be removed. \n",
    "***\n",
    "Use **BioBB extract_chain** to select the desired **chains**. \n",
    "\n",
    " - [extract_chain](https://biobb-structure-utils.readthedocs.io/en/latest/utils.html#module-utils.extract_chain) from **biobb_structure_utils.utils.extract_chain**\n",
    "***"
   ]
  },
  {
   "cell_type": "code",
   "execution_count": null,
   "metadata": {},
   "outputs": [],
   "source": [
    "print(json.dumps(data['chains'], indent=2))"
   ]
  },
  {
   "cell_type": "code",
   "execution_count": null,
   "metadata": {
    "scrolled": true
   },
   "outputs": [],
   "source": [
    "from biobb_structure_utils.utils.extract_chain import extract_chain\n",
    "\n",
    "pdb_chains = pdbCode + \".chains.pdb\"\n",
    "\n",
    "prop = {\n",
    "    'chains': [ 'A' ]\n",
    "}\n",
    "\n",
    "extract_chain(\n",
    "    input_structure_path=pdb_models,\n",
    "    output_structure_path=pdb_chains,\n",
    "    properties=prop\n",
    ")"
   ]
  },
  {
   "cell_type": "code",
   "execution_count": null,
   "metadata": {},
   "outputs": [],
   "source": [
    "# Show modified structure\n",
    "view1 = nglview.show_structure_file(pdb_models)\n",
    "view1.add_representation(repr_type='spacefill', selection='ion')\n",
    "view1.add_representation(repr_type='spacefill', radius='0.3', selection='water')\n",
    "view1._remote_call('setSize', target='Widget', args=['','600px'])\n",
    "view2 = nglview.show_structure_file(pdb_chains)\n",
    "view2.add_representation(repr_type='spacefill', selection='ion')\n",
    "view2.add_representation(repr_type='spacefill', radius='0.3', selection='water')\n",
    "view2._remote_call('setSize', target='Widget', args=['','600px'])\n",
    "ipywidgets.HBox([view1, view2])"
   ]
  },
  {
   "cell_type": "markdown",
   "metadata": {},
   "source": [
    "<a id=\"altlocs\"></a>\n",
    "##  Alternative Locations\n",
    "Presence of residues with **alternative locations**. Atoms with **alternative coordinates** and their **occupancy** are reported. MD simulations requires a **single position** for each atom. \n",
    "***\n",
    "Use **BioBB fix_altloc** to select the desired **alternative locations**. \n",
    "\n",
    " - [fix_altlocs](https://biobb-model.readthedocs.io/en/latest/model.html#module-model.fix_altlocs) from **biobb_model.model.fix_altlocs**\n",
    "***"
   ]
  },
  {
   "cell_type": "code",
   "execution_count": null,
   "metadata": {
    "scrolled": true
   },
   "outputs": [],
   "source": [
    "print(json.dumps(data['altloc'], indent=2))"
   ]
  },
  {
   "cell_type": "code",
   "execution_count": null,
   "metadata": {
    "scrolled": true
   },
   "outputs": [],
   "source": [
    "from biobb_model.model.fix_altlocs import fix_altlocs\n",
    "\n",
    "pdb_altloc = pdbCode + \".altloc.pdb\"\n",
    "\n",
    "prop = {\n",
    "    'altlocs': ['A45:A', 'A67:A', 'A85:A'] \n",
    "}\n",
    "\n",
    "fix_altlocs(\n",
    "    input_pdb_path=pdb_chains,\n",
    "    output_pdb_path=pdb_altloc,\n",
    "    properties=prop\n",
    ")"
   ]
  },
  {
   "cell_type": "code",
   "execution_count": null,
   "metadata": {},
   "outputs": [],
   "source": [
    "# Show modified structure\n",
    "view1 = nglview.show_structure_file(pdb_chains)\n",
    "view1.add_representation(repr_type='spacefill', selection='ion')\n",
    "view1.add_representation(repr_type='spacefill', radius='0.3', selection='water')\n",
    "view1.add_representation(repr_type='ball+stick', radius='0.4', selection='45%A 67%A 85%A')\n",
    "view1.add_representation(repr_type='ball+stick', radius='0.2', selection='45%B 67%B 85%B')\n",
    "view1._remote_call('setSize', target='Widget', args=['','450px'])\n",
    "view2 = nglview.show_structure_file(pdb_altloc)\n",
    "view2.add_representation(repr_type='spacefill', selection='ion')\n",
    "view2.add_representation(repr_type='spacefill', radius='0.3', selection='water')\n",
    "view2.add_representation(repr_type='ball+stick', radius='0.4', selection='45 67 85')\n",
    "view2._remote_call('setSize', target='Widget', args=['','450px'])\n",
    "ipywidgets.HBox([view1, view2])"
   ]
  },
  {
   "cell_type": "markdown",
   "metadata": {},
   "source": [
    "<a id=\"ss\"></a>\n",
    "##  Disulfide Bridges\n",
    "Presence of **disulfide bridges** (-S-S- bonds) based on distance criteria. **Disulfide bonds** are crucial for the **structure stability**, and MD simulations require those bonds to be correctly set. Most of the **MD packages** come with tools able to automatically identify -S-S- bonds and include them in the **system topology** parameters, but some of them need the residues involved in the bond to be **explicitly marked** (e.g. AMBER CYX residues). \n",
    "***\n",
    "Use **BioBB fix_ss_bonds** to mark the **disulfide bridges**. \n",
    "\n",
    " - [fix_ssbonds](https://biobb-model.readthedocs.io/en/latest/model.html#module-model.fix_ssbonds) from **biobb_model.model.fix_ssbonds**\n",
    "***"
   ]
  },
  {
   "cell_type": "code",
   "execution_count": null,
   "metadata": {
    "scrolled": true
   },
   "outputs": [],
   "source": [
    "print(json.dumps(data['getss'], indent=2))"
   ]
  },
  {
   "cell_type": "code",
   "execution_count": null,
   "metadata": {
    "scrolled": true
   },
   "outputs": [],
   "source": [
    "from biobb_model.model.fix_ssbonds import fix_ssbonds\n",
    "\n",
    "pdb_ssbonds = pdbCode + \".ssbonds.pdb\"\n",
    "\n",
    "fix_ssbonds(\n",
    "    input_pdb_path=pdb_altloc,\n",
    "    output_pdb_path=pdb_ssbonds\n",
    ")"
   ]
  },
  {
   "cell_type": "code",
   "execution_count": null,
   "metadata": {},
   "outputs": [],
   "source": [
    "# Show modified structure\n",
    "view1 = nglview.show_structure_file(pdb_altloc)\n",
    "view1.add_representation(repr_type='spacefill', selection='ion')\n",
    "view1.add_representation(repr_type='spacefill', radius='0.3', selection='water')\n",
    "view1.add_representation(repr_type='ball+stick', radius='0.4', selection='CYS')\n",
    "view1._remote_call('setSize', target='Widget', args=['','450px'])\n",
    "view2 = nglview.show_structure_file(pdb_ssbonds)\n",
    "view2.add_representation(repr_type='spacefill', selection='ion')\n",
    "view2.add_representation(repr_type='spacefill', radius='0.3', selection='water')\n",
    "view2.add_representation(repr_type='ball+stick', radius='0.2', selection='CYS')\n",
    "view2.add_representation(repr_type='ball+stick', radius='0.4', selection='CYX')\n",
    "view2._remote_call('setSize', target='Widget', args=['','450px'])\n",
    "ipywidgets.HBox([view1, view2])"
   ]
  },
  {
   "cell_type": "markdown",
   "metadata": {},
   "source": [
    "<a id=\"metals\"></a>\n",
    "##  Metal Ions\n",
    "Presence of heteroatoms being **metal ions**. Only structural **metal ions** should be kept in MD simulations, as they require special **force field parameters**. In some cases, the **atomic coordination** between the **protein atoms** and the **metal ions** should be also specified. \n",
    "***\n",
    "Use **BioBB remove_molecules** to remove the undesired **metal ions**. \n",
    "\n",
    " - [remove_molecules](https://biobb-structure-utils.readthedocs.io/en/latest/utils.html#module-utils.remove_molecules) from **biobb_structure-utils.utils.remove_molecules**\n",
    "***"
   ]
  },
  {
   "cell_type": "code",
   "execution_count": null,
   "metadata": {},
   "outputs": [],
   "source": [
    "print(json.dumps(data['metals'], indent=2))"
   ]
  },
  {
   "cell_type": "code",
   "execution_count": null,
   "metadata": {},
   "outputs": [],
   "source": [
    "from biobb_structure_utils.utils.remove_molecules import remove_molecules\n",
    "\n",
    "pdb_metals = pdbCode + \".metals.pdb\"\n",
    "\n",
    "prop = {\n",
    "    'molecules': [\n",
    "        {\n",
    "            'name': 'ZN'\n",
    "        }\n",
    "    ]\n",
    "}\n",
    "remove_molecules(input_structure_path=pdb_ssbonds,\n",
    "                 output_molecules_path=pdb_metals,\n",
    "                 properties=prop)\n"
   ]
  },
  {
   "cell_type": "code",
   "execution_count": null,
   "metadata": {},
   "outputs": [],
   "source": [
    "# Show modified structure\n",
    "view1 = nglview.show_structure_file(pdb_chains)\n",
    "view1.add_representation(repr_type='spacefill', selection='ion')\n",
    "view1.add_representation(repr_type='spacefill', radius='0.3', selection='water')\n",
    "view1.add_representation(repr_type='ball+stick', radius='0.4', selection='CYS')\n",
    "view1._remote_call('setSize', target='Widget', args=['','450px'])\n",
    "view2 = nglview.show_structure_file(pdb_metals)\n",
    "view2.add_representation(repr_type='spacefill', selection='ion')\n",
    "view2.add_representation(repr_type='spacefill', radius='0.3', selection='water')\n",
    "view2.add_representation(repr_type='ball+stick', radius='0.2', selection='CYS')\n",
    "view2.add_representation(repr_type='ball+stick', radius='0.4', selection='CYX')\n",
    "view2._remote_call('setSize', target='Widget', args=['','450px'])\n",
    "ipywidgets.HBox([view1, view2])"
   ]
  },
  {
   "cell_type": "markdown",
   "metadata": {},
   "source": [
    "<a id=\"ligands\"></a>\n",
    "##  Ligands\n",
    "Presence of heteroatoms being **ligands**. Only important **ligands** should be kept in MD simulations, as they require special **force field parameters**. \n",
    "***\n",
    "Use **BioBB remove_molecules** to remove the undesired **ligands**. \n",
    "\n",
    " - [remove_molecules](https://biobb-structure-utils.readthedocs.io/en/latest/utils.html#module-utils.remove_molecules) from **biobb_structure-utils.utils.remove_molecules**\n",
    "***"
   ]
  },
  {
   "cell_type": "code",
   "execution_count": null,
   "metadata": {},
   "outputs": [],
   "source": [
    "print(json.dumps(data['ligands'], indent=2))"
   ]
  },
  {
   "cell_type": "code",
   "execution_count": null,
   "metadata": {},
   "outputs": [],
   "source": [
    "from biobb_structure_utils.utils.remove_molecules import remove_molecules\n",
    "\n",
    "pdb_ligands = pdbCode + \".ligands.pdb\"\n",
    "\n",
    "prop = {\n",
    "    'molecules': [\n",
    "        {\n",
    "            'name': 'SO4',\n",
    "        },\n",
    "        {\n",
    "            'name' : 'AP5'\n",
    "        }\n",
    "    ]\n",
    "}\n",
    "remove_molecules(input_structure_path=pdb_metals,\n",
    "                 output_molecules_path=pdb_ligands,\n",
    "                 properties=prop)\n"
   ]
  },
  {
   "cell_type": "code",
   "execution_count": null,
   "metadata": {},
   "outputs": [],
   "source": [
    "# Show modified structure\n",
    "view1 = nglview.show_structure_file(pdb_metals)\n",
    "view1.add_representation(repr_type='spacefill', selection='ion')\n",
    "view1.add_representation(repr_type='spacefill', radius='0.3', selection='water')\n",
    "view1._remote_call('setSize', target='Widget', args=['','450px'])\n",
    "view2 = nglview.show_structure_file(pdb_ligands)\n",
    "view2.add_representation(repr_type='spacefill', selection='ion')\n",
    "view2.add_representation(repr_type='spacefill', radius='0.3', selection='water')\n",
    "view2._remote_call('setSize', target='Widget', args=['','450px'])\n",
    "ipywidgets.HBox([view1, view2])"
   ]
  },
  {
   "cell_type": "markdown",
   "metadata": {},
   "source": [
    "<a id=\"hydrogens\"></a>\n",
    "##  Hydrogen atoms\n",
    "Presence of **hydrogen atoms**. MD setup can be done with the original **hydrogen atoms**, however to prevent possible problems coming from non **standard labelling**, removing them is safer. \n",
    "***\n",
    "Use **BioBB reduce_remove_hydrogens** to remove the undesired **hydrogen atoms**. \n",
    "\n",
    " - [reduce_remove_hydrogens](https://biobb-chemistry.readthedocs.io/en/latest/ambertools.html#module-ambertools.reduce_remove_hydrogens) from **biobb_chemistry.ambertools.reduce_remove_hydrogens**\n",
    "***"
   ]
  },
  {
   "cell_type": "code",
   "execution_count": null,
   "metadata": {},
   "outputs": [],
   "source": [
    "print(json.dumps(data['stats']['stats'], indent=2))"
   ]
  },
  {
   "cell_type": "code",
   "execution_count": null,
   "metadata": {},
   "outputs": [],
   "source": [
    "from biobb_chemistry.ambertools.reduce_remove_hydrogens import reduce_remove_hydrogens\n",
    "\n",
    "pdb_hydrogens = pdbCode + \".hydrogens.pdb\"\n",
    "\n",
    "reduce_remove_hydrogens(\n",
    "    input_path=pdb_ligands,\n",
    "    output_path=pdb_hydrogens\n",
    ")"
   ]
  },
  {
   "cell_type": "code",
   "execution_count": null,
   "metadata": {},
   "outputs": [],
   "source": [
    "# Show modified structure\n",
    "view1 = nglview.show_structure_file(pdb_ligands)\n",
    "view1.add_representation(repr_type='spacefill', selection='ion')\n",
    "view1.add_representation(repr_type='spacefill', radius='0.3', selection='water')\n",
    "view1.add_representation(repr_type='spacefill', selection='hydrogen')\n",
    "view1._remote_call('setSize', target='Widget', args=['','450px'])\n",
    "view2 = nglview.show_structure_file(pdb_hydrogens)\n",
    "view2.add_representation(repr_type='spacefill', selection='ion')\n",
    "view2.add_representation(repr_type='spacefill', radius='0.3', selection='water')\n",
    "view2.add_representation(repr_type='spacefill', selection='hydrogen')\n",
    "view2._remote_call('setSize', target='Widget', args=['','450px'])\n",
    "ipywidgets.HBox([view1, view2])"
   ]
  },
  {
   "cell_type": "markdown",
   "metadata": {},
   "source": [
    "<a id=\"water\"></a>\n",
    "##  Water molecules\n",
    "Presence of **water molecules**. **Crystallographic water molecules** may be relevant for keeping the structure stable, however in most cases only some of them are required. These can be later added using other methods.\n",
    "***\n",
    "Use **BioBB remove_pdb_water** to remove the undesired **water molecules**. \n",
    "\n",
    " - [remove_pdb_water](https://biobb-structure-utils.readthedocs.io/en/latest/utils.html#module-utils.remove_pdb_water) from **biobb_structure-utils.utils.remove_pdb_water**\n",
    "***"
   ]
  },
  {
   "cell_type": "code",
   "execution_count": null,
   "metadata": {},
   "outputs": [],
   "source": [
    "print(json.dumps(data['stats']['stats'], indent=2))"
   ]
  },
  {
   "cell_type": "code",
   "execution_count": null,
   "metadata": {
    "scrolled": true
   },
   "outputs": [],
   "source": [
    "from biobb_structure_utils.utils.remove_pdb_water import remove_pdb_water\n",
    "\n",
    "pdb_water = pdbCode + \".water.pdb\"\n",
    "\n",
    "remove_pdb_water(\n",
    "    input_pdb_path=pdb_hydrogens,\n",
    "    output_pdb_path=pdb_water\n",
    ")"
   ]
  },
  {
   "cell_type": "code",
   "execution_count": null,
   "metadata": {},
   "outputs": [],
   "source": [
    "# Show modified structure\n",
    "view1 = nglview.show_structure_file(pdb_hydrogens)\n",
    "view1.add_representation(repr_type='spacefill', selection='ion')\n",
    "view1.add_representation(repr_type='spacefill', radius='0.5', selection='water')\n",
    "view1._remote_call('setSize', target='Widget', args=['','450px'])\n",
    "view2 = nglview.show_structure_file(pdb_water)\n",
    "view2.add_representation(repr_type='spacefill', selection='ion')\n",
    "view2.add_representation(repr_type='spacefill', radius='0.5', selection='water')\n",
    "view2._remote_call('setSize', target='Widget', args=['','450px'])\n",
    "ipywidgets.HBox([view1, view2])"
   ]
  },
  {
   "cell_type": "markdown",
   "metadata": {},
   "source": [
    "<a id=\"amide\"></a>\n",
    "##  Amide groups\n",
    "Presence of incorrect **amide groups**. **Amide terminal atoms** in ***Asparagines*** and ***Glutamines*** residues can be labelled incorrectly, with swapped **Nitrogen** and **Oxygen** atoms from the **amide group**. \n",
    "***\n",
    "Use **BioBB fix_amides** to fix the incorrectly assigned **amide groups**. \n",
    "\n",
    " - [fix_amides](https://biobb-model.readthedocs.io/en/latest/model.html#module-model.fix_amides) from **biobb_model.model.fix_amides**\n",
    "***"
   ]
  },
  {
   "cell_type": "code",
   "execution_count": null,
   "metadata": {
    "scrolled": true
   },
   "outputs": [],
   "source": [
    "print(json.dumps(data['amide'], indent=2))"
   ]
  },
  {
   "cell_type": "code",
   "execution_count": null,
   "metadata": {
    "scrolled": true
   },
   "outputs": [],
   "source": [
    "from biobb_model.model.fix_amides import fix_amides\n",
    "\n",
    "pdb_amides = pdbCode + \".amides.pdb\"\n",
    "\n",
    "fix_amides(\n",
    "    input_pdb_path=pdb_water,\n",
    "    output_pdb_path=pdb_amides\n",
    ")"
   ]
  },
  {
   "cell_type": "code",
   "execution_count": null,
   "metadata": {},
   "outputs": [],
   "source": [
    "# Show modified structure\n",
    "view1 = nglview.show_structure_file(pdb_water)\n",
    "view1.add_representation(repr_type='spacefill', selection='ion')\n",
    "view1.add_representation(repr_type='spacefill', radius='0.3', selection='water')\n",
    "view1.add_representation(repr_type='ball+stick', radius='0.4', selection='amide')\n",
    "view1._remote_call('setSize', target='Widget', args=['','450px'])\n",
    "view2 = nglview.show_structure_file(pdb_amides)\n",
    "view2.add_representation(repr_type='spacefill', selection='ion')\n",
    "view2.add_representation(repr_type='spacefill', radius='0.3', selection='water')\n",
    "view2.add_representation(repr_type='ball+stick', radius='0.4', selection='amide')\n",
    "view2._remote_call('setSize', target='Widget', args=['','450px'])\n",
    "ipywidgets.HBox([view1, view2])"
   ]
  },
  {
   "cell_type": "markdown",
   "metadata": {},
   "source": [
    "<a id=\"chirality\"></a>\n",
    "##  Chirality\n",
    "Presence of incorrect **chiralities**. Side chains of ***Threonine*** and ***Isoleucine*** residues are **chiral**. <br> **Incorrect atom labelling** can lead to the **wrong chirality**. \n",
    "***\n",
    "Use **BioBB fix_chirality** to fix the incorrectly assigned **chirality**. \n",
    "\n",
    " - [fix_chirality](https://biobb-model.readthedocs.io/en/latest/model.html#module-model.fix_chirality) from **biobb_model.model.fix_chirality**\n",
    "***"
   ]
  },
  {
   "cell_type": "code",
   "execution_count": null,
   "metadata": {},
   "outputs": [],
   "source": [
    "print(json.dumps(data['chiral'], indent=2))"
   ]
  },
  {
   "cell_type": "code",
   "execution_count": null,
   "metadata": {
    "scrolled": true
   },
   "outputs": [],
   "source": [
    "from biobb_model.model.fix_chirality import fix_chirality\n",
    "\n",
    "pdb_chiral = pdbCode + \".chiral.pdb\"\n",
    "\n",
    "fix_chirality(\n",
    "    input_pdb_path=pdb_amides,\n",
    "    output_pdb_path=pdb_chiral\n",
    ")"
   ]
  },
  {
   "cell_type": "code",
   "execution_count": null,
   "metadata": {},
   "outputs": [],
   "source": [
    "# Show modified structure\n",
    "view1 = nglview.show_structure_file(pdb_amides)\n",
    "view1.add_representation(repr_type='spacefill', selection='ion')\n",
    "view1.add_representation(repr_type='spacefill', radius='0.3', selection='water')\n",
    "view1._remote_call('setSize', target='Widget', args=['','450px'])\n",
    "view2 = nglview.show_structure_file(pdb_chiral)\n",
    "view2.add_representation(repr_type='spacefill', selection='ion')\n",
    "view2.add_representation(repr_type='spacefill', radius='0.3', selection='water')\n",
    "view2._remote_call('setSize', target='Widget', args=['','450px'])\n",
    "ipywidgets.HBox([view1, view2])"
   ]
  },
  {
   "cell_type": "markdown",
   "metadata": {},
   "source": [
    "<a id=\"sidechains\"></a>\n",
    "##  Side Chains\n",
    "Presence of **missing protein side chain atoms**. MD programs only work with complete residues; some of the MD packages come with tools able to **model missing side chain atoms**, but not all of them. \n",
    "***\n",
    "Use **BioBB fix_side_chain** to model the **missing side chain atoms**. \n",
    "\n",
    " - [fix_side_chain](https://biobb-model.readthedocs.io/en/latest/model.html#module-model.fix_side_chain) from **biobb_model.model.fix_side_chain**\n",
    "***"
   ]
  },
  {
   "cell_type": "code",
   "execution_count": null,
   "metadata": {},
   "outputs": [],
   "source": [
    "print(json.dumps(data['fixside'], indent=2))"
   ]
  },
  {
   "cell_type": "code",
   "execution_count": null,
   "metadata": {
    "scrolled": true
   },
   "outputs": [],
   "source": [
    "from biobb_model.model.fix_side_chain import fix_side_chain\n",
    "\n",
    "pdb_side_chains = pdbCode + \".sidechains.pdb\"\n",
    "\n",
    "fix_side_chain(\n",
    "    input_pdb_path=pdb_chiral,\n",
    "    output_pdb_path=pdb_side_chains\n",
    ")"
   ]
  },
  {
   "cell_type": "code",
   "execution_count": null,
   "metadata": {},
   "outputs": [],
   "source": [
    "# Show modified structure\n",
    "view1 = nglview.show_structure_file(pdb_chiral)\n",
    "view1.add_representation(repr_type='spacefill', selection='ion')\n",
    "view1.add_representation(repr_type='spacefill', radius='0.3', selection='water')\n",
    "view1.add_representation(repr_type='ball+stick', radius='0.4', selection='7 56 63 123 127 143 155')\n",
    "view1._remote_call('setSize', target='Widget', args=['','450px'])\n",
    "view2 = nglview.show_structure_file(pdb_side_chains)\n",
    "view2.add_representation(repr_type='spacefill', selection='ion')\n",
    "view2.add_representation(repr_type='spacefill', radius='0.3', selection='water')\n",
    "view2.add_representation(repr_type='ball+stick', radius='0.4', selection='7 56 63 123 127 143 155')\n",
    "view2._remote_call('setSize', target='Widget', args=['','450px'])\n",
    "ipywidgets.HBox([view1, view2])"
   ]
  },
  {
   "cell_type": "markdown",
   "metadata": {},
   "source": [
    "<a id=\"backbone\"></a>\n",
    "##  Backbone\n",
    "Presence of **missing backbone atoms**. **PDB files** can have **missing backbone atoms**, usually placed in **flexible regions** of the molecule. **MD programs** work with amino acid libraries that need all atoms to be present. Some MD packages tools are able to model **side chain missing atoms**, but they are rarely capable of modeling **backbone atoms**. \n",
    "***\n",
    "Use **BioBB fix_backbone** to model the **missing backbone atoms**. <br>\n",
    "\n",
    " - [fix_backbone](https://biobb-model.readthedocs.io/en/latest/model.html#module-model.fix_backbone) from **biobb_model.model.fix_backbone**\n",
    "\n",
    "***NOTE:*** This building block uses [Modeller](https://salilab.org/modeller) to rebuilt **missing backbone atoms**. **Modeller** requires a **license** that can be easily obtained in the [Modeller registration page](https://salilab.org/modeller/registration.html). This **license** in form of a **keyword** needs to be written in a specific file in order for **Modeller** to work. This file is shown in the next cell. Alternatively, the keyword can be inserted using the **modeller_key** property of the **building block**.\n",
    " \n",
    "An additional **building block** is used to extract the **canonical FASTA sequence** for the protein, to be used in **Modeler** to model the **missing backbone region**:\n",
    "\n",
    " - [canonical_fasta](https://biobb-io.readthedocs.io/en/latest/api.html#module-api.canonical_fasta) from **biobb_io.api.canonical_fasta**\n",
    "\n",
    "***"
   ]
  },
  {
   "cell_type": "code",
   "execution_count": null,
   "metadata": {},
   "outputs": [],
   "source": [
    "print(json.dumps(data['backbone'], indent=2))"
   ]
  },
  {
   "cell_type": "code",
   "execution_count": null,
   "metadata": {},
   "outputs": [],
   "source": [
    "from biobb_io.api.canonical_fasta import canonical_fasta\n",
    "\n",
    "pdb_fasta = pdbCode + \".fasta\"\n",
    "\n",
    "prop = {\n",
    "    'pdb_code': pdbCode,\n",
    "    'api_id': 'pdb'\n",
    "}\n",
    "\n",
    "canonical_fasta(\n",
    "    output_fasta_path=pdb_fasta,\n",
    "    properties=prop\n",
    ")"
   ]
  },
  {
   "cell_type": "code",
   "execution_count": null,
   "metadata": {},
   "outputs": [],
   "source": [
    "# Add Modeller key in the config file before running the next cell\n",
    "# Alternatively, add the Modeller key in the \"modeller_key\" property of the fix_backbone building block\n",
    "import os\n",
    "conda_env_path = os.environ['CONDA_PREFIX']\n",
    "modeller_key_path = conda_env_path + \"/lib/modeller-10.3/modlib/modeller/config.py\"\n",
    "print(\"WARNING: Edit this file and add your Modeller KEY:\\n \" + modeller_key_path)"
   ]
  },
  {
   "cell_type": "code",
   "execution_count": null,
   "metadata": {
    "scrolled": true
   },
   "outputs": [],
   "source": [
    "from biobb_model.model.fix_backbone import fix_backbone\n",
    "\n",
    "pdb_backbone = pdbCode + \".backbone.pdb\"\n",
    "\n",
    "prop = {\n",
    "    'modeller_key' : \"XXXX\"\n",
    "}\n",
    "\n",
    "fix_backbone(\n",
    "    input_pdb_path=pdb_side_chains,\n",
    "    input_fasta_canonical_sequence_path=pdb_fasta,\n",
    "    output_pdb_path=pdb_backbone,\n",
    "    properties=prop\n",
    ")"
   ]
  },
  {
   "cell_type": "code",
   "execution_count": null,
   "metadata": {},
   "outputs": [],
   "source": [
    "# Show modified structure\n",
    "view1 = nglview.show_structure_file(pdb_side_chains)\n",
    "view1.add_representation(repr_type='spacefill', selection='ion')\n",
    "view1.add_representation(repr_type='spacefill', radius='0.3', selection='water')\n",
    "view1._remote_call('setSize', target='Widget', args=['','450px'])\n",
    "view2 = nglview.show_structure_file(pdb_backbone)\n",
    "view2.add_representation(repr_type='spacefill', selection='ion')\n",
    "view2.add_representation(repr_type='spacefill', radius='0.3', selection='water')\n",
    "view2._remote_call('setSize', target='Widget', args=['','450px'])\n",
    "ipywidgets.HBox([view1, view2])"
   ]
  },
  {
   "cell_type": "markdown",
   "metadata": {},
   "source": [
    "<a id=\"clashes\"></a>\n",
    "##  Atomic Clashes\n",
    "Presence of **atomic clashes**. Atoms that are **too close in space** can have a problem of **energetic repulsion**. Most clashes come from **over-compactation** of crystal structures and are naturally corrected on **system setup** or **MD equilibration**, but may lead to a significant **distortion** of the structure. **Clashes** are detected based on **distance criteria** and are classified in different groups, depending on the **atom types** involved:\n",
    "\n",
    "- **Severe**: Atoms too close, usually indicating superimposed structures or badly modelled regions. Should be fixed.\n",
    "- **Apolar**: Vdw collisions. Usually fixed during the simulation.\n",
    "- **Polar and ionic**: Usually indicate wrong side chain conformations. Usually fixed during the simulation\n",
    "\n",
    "***\n",
    "Use the **BioBB_amber** module to energetically minimize the structure and fix **atomic clashes**.\n",
    "\n",
    " - [leap_gen_top](https://biobb-amber.readthedocs.io/en/latest/leap.html#module-leap.leap_gen_top) from **biobb_amber.leap.leap_gen_top**\n",
    " - [sander_mdrun](https://biobb-amber.readthedocs.io/en/latest/sander.html#module-sander.sander_mdrun) from **biobb_amber.sander.sander_mdrun**\n",
    " - [amber_to_pdb](https://biobb-amber.readthedocs.io/en/latest/ambpdb.html#module-ambpdb.amber_to_pdb) from **biobb_amber.ambpdb.amber_to_pdb**\n",
    "\n",
    "***"
   ]
  },
  {
   "cell_type": "code",
   "execution_count": null,
   "metadata": {
    "scrolled": true
   },
   "outputs": [],
   "source": [
    "print(json.dumps(data['clashes'], indent=2))"
   ]
  },
  {
   "cell_type": "code",
   "execution_count": null,
   "metadata": {
    "scrolled": true
   },
   "outputs": [],
   "source": [
    "from biobb_amber.leap.leap_gen_top import leap_gen_top\n",
    "\n",
    "pdb_amber = pdbCode + \".amber.pdb\"\n",
    "top_amber = pdbCode + \".amber.top\"\n",
    "crd_amber = pdbCode + \".amber.crd\"\n",
    "\n",
    "prop = {\n",
    "    'forcefield': ['protein.ff14SB']\n",
    "}\n",
    "\n",
    "leap_gen_top(\n",
    "    input_pdb_path=pdb_backbone,\n",
    "    output_pdb_path=pdb_amber,\n",
    "    output_top_path=top_amber,\n",
    "    output_crd_path=crd_amber,\n",
    "    properties=prop\n",
    ")"
   ]
  },
  {
   "cell_type": "code",
   "execution_count": null,
   "metadata": {},
   "outputs": [],
   "source": [
    "from biobb_amber.sander.sander_mdrun import sander_mdrun\n",
    "\n",
    "trj_amber = pdbCode + \".amber.crd\"\n",
    "rst_amber = pdbCode + \".amber.rst\"\n",
    "log_amber = pdbCode + \".amber.log\"\n",
    "\n",
    "prop = {\n",
    "    'simulation_type' : 'minimization',\n",
    "    'mdin' : {\n",
    "        'ntb' : 0,        # Periodic Boundary. No periodicity is applied and PME (Particle Mesh Ewald) is off.\n",
    "        'cut' : 12,       # Nonbonded cutoff, in Angstroms.\n",
    "        'maxcyc' : 500,   # Maximum number of cycles of minimization.\n",
    "        'ncyc' : 50       # Minimization will be switched from steepest descent to conjugate gradient after ncyc cycles.\n",
    "    }\n",
    "}\n",
    "\n",
    "sander_mdrun(\n",
    "     input_top_path=top_amber,\n",
    "     input_crd_path=crd_amber,\n",
    "     output_traj_path=trj_amber,\n",
    "     output_rst_path=rst_amber,\n",
    "     output_log_path=log_amber,\n",
    "     properties=prop\n",
    ")"
   ]
  },
  {
   "cell_type": "code",
   "execution_count": null,
   "metadata": {},
   "outputs": [],
   "source": [
    "from biobb_amber.ambpdb.amber_to_pdb import amber_to_pdb\n",
    "\n",
    "pdb_amber_min = pdbCode + \".amber-min.pdb\"\n",
    "\n",
    "amber_to_pdb(\n",
    "      input_top_path=top_amber,\n",
    "      input_crd_path=rst_amber,\n",
    "      output_pdb_path=pdb_amber_min\n",
    ")"
   ]
  },
  {
   "cell_type": "code",
   "execution_count": null,
   "metadata": {},
   "outputs": [],
   "source": [
    "# Show modified structure\n",
    "view1 = nglview.show_structure_file(pdb_backbone)\n",
    "view1.add_representation(repr_type='ball+stick', selection='all')\n",
    "view1.add_representation(repr_type='spacefill', selection='ion')\n",
    "view1.add_representation(repr_type='spacefill', radius='0.3', selection='water')\n",
    "view1._remote_call('setSize', target='Widget', args=['','450px'])\n",
    "view2 = nglview.show_structure_file(pdb_amber_min)\n",
    "view2.clear_representations()\n",
    "view2.add_representation(repr_type='cartoon', selection='all')\n",
    "view2.add_representation(repr_type='ball+stick', selection='all')\n",
    "view2.add_representation(repr_type='spacefill', selection='ion')\n",
    "view2.add_representation(repr_type='spacefill', radius='0.3', selection='water')\n",
    "view2._remote_call('setSize', target='Widget', args=['','450px'])\n",
    "ipywidgets.HBox([view1, view2])"
   ]
  },
  {
   "cell_type": "markdown",
   "metadata": {},
   "source": [
    "<a id=\"fix_pdb\"></a>\n",
    "##  Fix PDB\n",
    "\n",
    "Information included in the **original structure** is sometimes **lost** during the **preparation process**. Typical examples are the **residue numeration** and the **structure chains**, that are **changed** or even **removed** by some **MD tools** (as happened with the chains in the previous **energy minimization** process). The **fix_pdb** building block renumerates the residues in a **PDB structure** according to reference **sequences from UniProt** and assigns **chain ids** accordingly.\n",
    "***\n",
    "Use the **BioBB_model** module to ***fix*** the structure, **renumerating** the residues and assigning **chain ids**.\n",
    "\n",
    " - [fix_pdb](https://biobb-model.readthedocs.io/en/latest/fix_pdb.html#module-model.fix_pdb) from **biobb_model.model.fix_pdb**\n",
    "\n",
    "***"
   ]
  },
  {
   "cell_type": "code",
   "execution_count": null,
   "metadata": {},
   "outputs": [],
   "source": [
    "from biobb_model.model.fix_pdb import fix_pdb\n",
    "\n",
    "final_pdb = pdbCode + \".final.pdb\"\n",
    "\n",
    "fix_pdb(\n",
    "    input_pdb_path=pdb_amber_min,\n",
    "    output_pdb_path=final_pdb\n",
    ")"
   ]
  },
  {
   "cell_type": "markdown",
   "metadata": {},
   "source": [
    "<a id=\"finalcheck\"></a>\n",
    "##  Final Check\n",
    "Checking the **final structure** to analyse the **possible issues** present in the **modified structure** in comparison with the issues we found with the **original structure** at the beginning of the workflow. \n",
    "***\n",
    "**Building Blocks** used:\n",
    " - [structure_check](https://biobb-structure-utils.readthedocs.io/en/latest/utils.html#module-utils.structure_check) from **biobb_structure_utils.utils.structure_check**\n",
    "***"
   ]
  },
  {
   "cell_type": "code",
   "execution_count": null,
   "metadata": {
    "scrolled": true
   },
   "outputs": [],
   "source": [
    "from biobb_structure_utils.utils.structure_check import structure_check\n",
    "\n",
    "report_final = pdbCode + \".report_final.json\"\n",
    "\n",
    "structure_check(\n",
    "    input_structure_path=final_pdb,\n",
    "    output_summary_path=report_final\n",
    ")"
   ]
  },
  {
   "cell_type": "code",
   "execution_count": null,
   "metadata": {},
   "outputs": [],
   "source": [
    "import json\n",
    "with open(report_final, 'r') as f:\n",
    "  data_final = json.load(f)\n",
    "print(json.dumps(data_final, indent=2))"
   ]
  },
  {
   "cell_type": "markdown",
   "metadata": {},
   "source": [
    "Printing the possible **issues** identified by the **structure_check** building block in the **original structure** (left column) against the **checked structure** (right column). The main differences are the elimination of the **alternative locations**, **metal ions** and **ligands**. Most of the **clashes** have also disappeared thanks to the **short energetic minimization**.  \n",
    "\n",
    "The **structure** should be now ready to start the **MD setup process**."
   ]
  },
  {
   "cell_type": "code",
   "execution_count": null,
   "metadata": {
    "scrolled": false
   },
   "outputs": [],
   "source": [
    "from ipywidgets import Layout\n",
    "\n",
    "output1 = ipywidgets.widgets.Output(layout=Layout(width='50%'))\n",
    "with output1:\n",
    "    display(print(json.dumps(data, indent=2)))\n",
    "output2 = ipywidgets.widgets.Output(layout=Layout(width='50%'))\n",
    "with output2:\n",
    "    display(print(json.dumps(data_final, indent=2)))\n",
    "\n",
    "two_columns = ipywidgets.widgets.HBox([output1, output2])\n",
    "\n",
    "display(two_columns)"
   ]
  },
  {
   "cell_type": "markdown",
   "metadata": {},
   "source": [
    "***\n",
    "<a id=\"questions\"></a>\n",
    "\n",
    "## Questions & Comments\n",
    "\n",
    "Questions, issues, suggestions and comments are really welcome!\n",
    "\n",
    "* GitHub issues:\n",
    "    * [https://github.com/bioexcel/biobb](https://github.com/bioexcel/biobb)\n",
    "\n",
    "* BioExcel forum:\n",
    "    * [https://ask.bioexcel.eu/c/BioExcel-Building-Blocks-library](https://ask.bioexcel.eu/c/BioExcel-Building-Blocks-library)"
   ]
  }
 ],
 "metadata": {
  "kernelspec": {
   "display_name": "Python 3 (ipykernel)",
   "language": "python",
   "name": "python3"
  },
  "language_info": {
   "codemirror_mode": {
    "name": "ipython",
    "version": 3
   },
   "file_extension": ".py",
   "mimetype": "text/x-python",
   "name": "python",
   "nbconvert_exporter": "python",
   "pygments_lexer": "ipython3",
   "version": "3.7.12"
  }
 },
 "nbformat": 4,
 "nbformat_minor": 2
}
